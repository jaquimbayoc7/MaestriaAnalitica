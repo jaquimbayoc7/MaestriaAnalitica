{
 "cells": [
  {
   "cell_type": "markdown",
   "id": "ae503c05",
   "metadata": {
    "ExecuteTime": {
     "end_time": "2021-11-09T20:16:03.708359Z",
     "start_time": "2021-11-09T20:16:03.379308Z"
    },
    "deletable": false,
    "editable": false,
    "scrolled": false
   },
   "source": [
    "<img src=\"https://www.unir.net/wp-content/uploads/2019/11/Unir_2021_logo.svg\" width=\"240\" height=\"240\" align=\"right\"/>"
   ]
  },
  {
   "cell_type": "markdown",
   "id": "19a0cac7",
   "metadata": {
    "caption": "somecaption",
    "deletable": false,
    "label": "fig:somelabel",
    "widefigure": true
   },
   "source": [
    "## 01 - Uso de Jupyter Notebook y Markdown"
   ]
  },
  {
   "cell_type": "markdown",
   "id": "4a5028ac",
   "metadata": {
    "caption": "somecaption",
    "deletable": false,
    "label": "fig:somelabel",
    "widefigure": true
   },
   "source": [
    "<figure><center>\n",
    "  <img src=\"https://jupyter.org/assets/homepage/main-logo.svg\" alt=\"jupyter.org\" width=150 height=150/>\n",
    "  <figcaption>jupyter.org</figcaption>\n",
    "</figure><center>"
   ]
  },
  {
   "attachments": {
    "image.png": {
     "image/png": "[encoded data removed]"
    }
   },
   "cell_type": "markdown",
   "id": "b3fef4eb",
   "metadata": {
    "ExecuteTime": {
     "end_time": "2021-11-03T09:27:52.438118Z",
     "start_time": "2021-11-03T09:27:52.421087Z"
    }
   },
   "source": [
    "**Jupyter** notebook (una evolución de Ipython Notebook) es una aplicación web de código abierto, que permite el procesamiento de código en vivo, datos, ecuaciones, material multimedia y texto de manera estructurada. Se puede crear y procesar información con todos estos elementos, manteniendo la estética de un buen documento. Permite también el trabajo conjunto de proyectos y documentos, potenciando el trabajo colaborativo.\n",
    "\n",
    "Con Jupyter, se construyen documentos entendibles, con procesos repetibles, generando transparencia, oportunidades de reprocesos, generación de alertas, generación de informes, entre otros aspectos. Permite desarrollar documentos con la entrada y salida interactiva de códigos construidos para el proceso, depuración y la transformación de datos, el modelado, el uso de herramientas de IA, la visualización, incluyendo información y explicación de la metodología y de los pasos usados para cada proceso o tarea. En resumen, sus principales usos son:\n",
    "\n",
    "+ Data cleaning \n",
    "+ Data transformation \n",
    "+ Numerical simulation \n",
    "+ Statistical modeling \n",
    "+ Data visualization \n",
    "+ Machine learning\n",
    "+ Deep learning\n",
    "+ XAI\n",
    "\n",
    "Jupyter fue inicialmente creado para la unificación de los kernels Julia, Python y R; Jupyter (as in **Ju** (Julia) - **py** (Python) - te**R** (R)), pero hoy admite al menos 40 kernels diferentes. En este Notebook se utilizará Python.\n",
    "\n",
    "\n",
    "Algunos enlaces de interes:\n",
    "- https://jupyter.org/,\n",
    "- https://www.anaconda.com/.\n",
    "- [Página de donativos](https://numfocus.org/donate)\n",
    "- [Instalación](https://jupyter.org/install), \n",
    "- [Guía de instalación en Youtube](https://www.youtube.com/watch?v=LrMOrMb8-3s),\n",
    "- [Instalación de kernels](https://test-jupyter.readthedocs.io/en/latest/install-kernel.html#id2),  \n",
    "- [Documentación general de Jupyter Notebook](https://jupyter-notebook.readthedocs.io/en/stable/notebook.html).\n",
    "\n",
    "En este [enlace](https://jupyter.org/try) puede probar Jupyter sin tener que instalarlo.\n",
    "\n",
    "![image.png](attachment:image.png)\n",
    "\n",
    "<p style='text-align: justify;'> \n",
    "En particular, con este notebook repasarás los elementos básicos de Jupyter y algunas herramientas para facilitar y optimizar su uso. Entre otros elementos, revisaremos herramientas de generación de código, interacción, edición y de visualización de notebooks, buscando que queden \"bien\" presentados y formateados. \n",
    "</p>"
   ]
  },
  {
   "cell_type": "markdown",
   "id": "4c2a135e",
   "metadata": {
    "ExecuteTime": {
     "end_time": "2021-11-08T13:04:14.869493Z",
     "start_time": "2021-11-08T13:04:14.862493Z"
    }
   },
   "source": [
    "Algunas de los principales paquetes usados en Jupyter Notebook con el kernel de Python son:\n",
    "\n",
    "   + [NumPy](https://numpy.org/)\n",
    "   + [Pandas](https://pandas.pydata.org/)\n",
    "   + [Scikit-learn](https://scikit-learn.org/stable/)\n",
    "   + [Statmodels](https://www.statsmodels.org/stable/index.html)\n",
    "   + [Scipy](https://scipy.org/)\n",
    "   + [Matplotlib](https://matplotlib.org/)\n",
    "   + [Seaborn](https://seaborn.pydata.org/)\n",
    "   + [Plotly](https://plotly.com/python/)\n",
    "   + [TensorFlow](https://www.tensorflow.org/learn)\n",
    "   + [Keras](https://keras.io/)   "
   ]
  },
  {
   "cell_type": "markdown",
   "id": "5b04f647",
   "metadata": {},
   "source": [
    "---"
   ]
  },
  {
   "cell_type": "markdown",
   "id": "5c7854b5",
   "metadata": {},
   "source": [
    "## Elementos Básicos\n",
    "\n",
    "Recordemos que un Jupyter Notebook está conformado por una serie de celdas que pueden almacenar texto o código. Las celdas conforman un *notebook*. Las principales celdas de un Jupyter Notebook son `Markdown` y `Code`.\n",
    "\n",
    "+ Las celdas `Markdown` te permiten describir, explicar y documentar los procesos en la sintaxis Markdown o HTML.\n",
    "+ las celdas de código `Code` te permiten escribir y ejecutar código de programas como Python o R.\n",
    "\n",
    "<figure>\n",
    "    <center>\n",
    "         <img src=\"https://github.com/mfcardenas/resources_images/blob/main/img_01_01.png?raw=true\" alt=\"Tipos de celdas\"/>\n",
    "         <figcaption>Tipos de celdas</figcaption>\n",
    "     </center>\n",
    "</figure>\n",
    "\n",
    "     \n",
    "Más información sobre los tipos de celdas, la creación de nuevos documentos y otros aspectos introductorios en [este enlace](https://jupyter-notebook.readthedocs.io/en/stable/notebook.html)."
   ]
  },
  {
   "cell_type": "markdown",
   "id": "7191692a",
   "metadata": {},
   "source": [
    "---"
   ]
  },
  {
   "cell_type": "markdown",
   "id": "88eae378",
   "metadata": {},
   "source": [
    "## Atajos de teclado\n",
    "\n",
    "Algunos de los más utiles son:\n",
    "\n",
    "+ `Ctrl + Enter`Ejecuta la celda actual\n",
    "+ `Shift + Enter` Ejecuta la celda actual y se desplaza a la siguiente\n",
    "+ `Esc + D + D` Elimina la celda actual\n",
    "+ `Esc + A` Inserta una nueva celda de code arriba (Above)\n",
    "+ `Esc + B` Inserta una nueva celda de code abajo (Below)\n",
    "+ `Esc + M` Cambia el tipo de celda actual a Markdown (Markdown)\n",
    "+ `Esc + Y` Cambia el tipo de celda actual a Code (¿¿¿Y???)\n",
    "+ `Esc + F` Buscar y reemplazar en su código pero no en las salidas.\n",
    "+ `Esc + Z` Deshacer cambio\n",
    "+ `Shift + Space`desplaza el notebook hacia arriba.\n",
    "+ `Space` desplaza el notebook hacia abajo.\n",
    "+ `Esc + C` copiar\n",
    "+ `Esc + V` pegar\n",
    "+ `Esc + X` cortar\n",
    "\n",
    "Recordar que `Esc` es para salir al modo celda (o command) y `Enter` para entra al modo edición. No significa que haya que pulsar `Esc` en cada comando sino que podrías salir al modo celda y ejecutar varios comandos. Por ejemplo: `Esc + C + V`"
   ]
  },
  {
   "cell_type": "markdown",
   "id": "bb6a4e11",
   "metadata": {},
   "source": [
    "## Algunas herramientas de Markdown\n",
    "\n",
    "A continuación presentamos algunos de las herramientas y complementos más relevantes de Markdown en Jupyter para presentar documentos. Estas nos ayudarán a mejorar nuestra experiencia en esta herramienta y a que los Notebooks luzcan presentables."
   ]
  },
  {
   "cell_type": "markdown",
   "id": "68e05072",
   "metadata": {},
   "source": [
    "### Encabezados en diferentes niveles\n",
    "\n",
    "En lenguaje de Markdown:\n",
    "\n",
    "```markdown\n",
    "    # Encabezado de nivel 1\n",
    "    ## Encabezado de nivel  2\n",
    "    ### Encabezado de nivel  3\n",
    "    #### Encabezado de nivel  4\n",
    "    ##### Encabezado de nivel  5\n",
    "    ###### Encabezado de nivel  6 \n",
    "```\n",
    "\n",
    "O en HTML (si no sabéis HTML ignoradlo):\n",
    "\n",
    "```html\n",
    "    <h1>Header 1</h1>\n",
    "    <h2>Header 2</h2>\n",
    "    <h3>Header 3</h3>\n",
    "    <h4>Header 4</h4>\n",
    "    <h5>Header 5</h5>\n",
    "    <h6>Header 6</h6>\n",
    "```"
   ]
  },
  {
   "cell_type": "markdown",
   "id": "36bdb2a9",
   "metadata": {},
   "source": [
    "### Énfasis: Cursiva y negrita\n",
    "\n",
    "Se usan los simbolos (\\*) de la siguiente manera:\n",
    "\n",
    "`*Texto en cursiva*`\n",
    "\n",
    "+ *Texto en cursiva*\n",
    "\n",
    "`**Texto en negrita**`\n",
    "\n",
    "+ **Texto en negrita**\n",
    "\n",
    "`***Texto en cursiva y negrita***`\n",
    "\n",
    "+ ***Texto en cursiva y negrita***\n"
   ]
  },
  {
   "cell_type": "markdown",
   "id": "3dd4ea70",
   "metadata": {},
   "source": [
    "### Citas en Bloque o sangría\n",
    "\n",
    "Para marcar un trozo de texto como una cita o para aplicar sangría, se utliza el signo de mayor que (>). Se inserta al principio del texto de la cita sangrada y se marca el final de la cita agregando una línea en blanco.Se puede usar (>) la cantidad de veces que se desea aplicar sangría al texto.\n",
    "\n",
    "Ejemplo:\n",
    ">Este en un ejemplo de sangría.\n",
    ">>Este en un ejemplo de sangría.\n",
    ">>>Este en un ejemplo de sangría."
   ]
  },
  {
   "cell_type": "markdown",
   "id": "01d3920c",
   "metadata": {},
   "source": [
    "### Líneas horizontales para separar secciones\n",
    "\n",
    "Se usan para la aseparación de secciones. Se crean con tres de los siguientes elementos: asteriscos(\\*), guiones(-), o guiones bajos (_). Ejemplo:\n",
    "\n",
    "> ***\n",
    "> ---\n",
    "> ___"
   ]
  },
  {
   "cell_type": "markdown",
   "id": "cb72f1b7",
   "metadata": {},
   "source": [
    "### Lístas y viñetas\n",
    "Para crear una lista ordenada se suelen numerar los elementos. Para crear una lista ordenada/numerada se numeran los elementos. \n",
    "Para crear una sublista bajo un ítem se utlizae TAB y luego se comienza a numerar la sublista. A continuación un ejemplo:\n",
    "\n",
    "\n",
    ">1. Primer Item \n",
    ">2. Segundo Item \n",
    ">3. Tercer Item\n",
    ">    1. Primer item del tercer item\n",
    ">    2. Segundo item del tercer item\n",
    ">    3. Tercer item del tercer item\n",
    "    \n",
    "También se pueden crear listas no ordenadas usando los simbolos (\\*), (-) o (+):\n",
    "\n",
    ">- Primer Item \n",
    ">- Segundo Item \n",
    ">- Tercer Item\n",
    ">    * Primer item del tercer item\n",
    ">    * Segundo item del tercer item\n",
    ">    * Tercer item del tercer item\n",
    ">        + Primer ...\n",
    ">        + Segundo ...\n",
    "\n",
    "Otra manera de hacer listas:\n",
    "\n",
    "\n",
    " ><br>\n",
    "     <dl>\n",
    "     <dt>Primer Item</dt>\n",
    "     <dd>Esto corresponde al primer Item.</dd>\n",
    "     <dt>Segundo Item</dt>\n",
    "     <dd>Esto corresponde con la definición del segundo Item. </dd>\n",
    "     <dd>Otra definción del segundo Item.</dd>\n",
    "     </dl>\n",
    " "
   ]
  },
  {
   "cell_type": "markdown",
   "id": "7124ea71",
   "metadata": {},
   "source": [
    "### Texto resaltado\n",
    "\n",
    "Se puede resaltar parte del texto con HTML usando la sentencia \\<mark>texto a resaltar\\</mark>.\n",
    "\n",
    " Ejemplo: \n",
    " \n",
    "> A continuación el <mark>texto resaltado</mark>."
   ]
  },
  {
   "cell_type": "markdown",
   "id": "8489e965",
   "metadata": {},
   "source": [
    "### Creación de cuadros explicativos o de alertas en colores\n",
    "\n",
    "Se utliza alguna de las siguientes etiquetas HTML \\<div> para mostrar el texto en un cuadro de color. El color del cuadro se determina por el tipo de alerta que se genere.\n",
    "\n",
    "    \n",
    "><div class=\"alert alert-block alert-info\">\n",
    "<b>Tip:</b> Use cajas azules para tips y notas.</div>\n",
    "\n",
    "><div class=\"alert alert-block alert-warning\">\n",
    "<b>Ejemplo:</b> Utilice los cuadros amarillos para ejemplos que no están dentro de las celdas de código. También fórmulas matemáticas importantes. O se pueden utilizar para mostrar mensajes de advertencia.</div>\n",
    "\n",
    "><div class=\"alert alert-block alert-success\">\n",
    "<b>Recuerda:</b> Este cuadro se utliza para mensajes positivos o a resaltar en el texto.</div>\n",
    "\n",
    "><div class=\"alert alert-block alert-danger\">\n",
    "<b>Atención:</b> Este cuadro indica acciones negativas o potencialmente de cuidado o erroneas.</div>\n",
    "\n"
   ]
  },
  {
   "cell_type": "markdown",
   "id": "a1dc7d84",
   "metadata": {},
   "source": [
    "### Hipervínculos y enlaces\n",
    "\n",
    "+ En markdown los podemos crear utlizando `[]` corchetes, y el link correspondiente con `()` paréntesis.\n",
    "\n",
    "  Ejemplo:\n",
    "  \n",
    ">[Proyecto Jupyter](https://jupyter.org/)\n",
    "\n",
    "+ También, puedes usar enlaces como referencia. Enlazas con palabras, letras o números, y en otro lugar del mismo documento se definen y se documentan.\n",
    "Para esto se usan los símbolos `[][]`. Y en la descripción `[]:descripción`. Las referencias pueden ubicarse en cualquier parte del documento y no se muestran dentro del texto.\n",
    "\n",
    "   Ejemplo: \n",
    "\n",
    "> Este es un ejemplo de uso de enlaces como referencias en `[Jupyter][Ref 1]` [Jupyter][Ref 1]. También puedes usar  `[Jupyter][]` [Jupyter][] para usar el mismo texto referenciado como descriptor.\n",
    "\n",
    "[Ref 1]: https://jupyter.org/\n",
    "[Jupyter]: https://jupyter.org/\n",
    "\n",
    "+ También se pueden generar links directos para una url usando `<url>`, o simplemnete poniendo la url directamente en el texto.\n",
    "\n",
    "    Ejemplo: \n",
    "\n",
    "> <https://jupyter.org/> o https://jupyter.org/\n",
    "\n",
    "+ Tammbién existen los **enlaces ancla** que llevan a un lugar específico en el documento. Puede utilizarse para enlazar con cualquier sección del notebook. Si se desea un enlace ancla con una sección en especial, debemos establecer el nombre que deseemos en `[]` y añadir entre parentesis `()` el nombre del encabezado de la sección, empezando por `#`con un guión en lugar del espacio en blanco. \n",
    "\n",
    "  Ejemplo:  \n",
    "\n",
    "Deseo que este enlace me lleve a la sección `[Section 4.6](#Texto-resaltado)` [Section 4.6](#Texto-resaltado).\n",
    "\n",
    "+ Es posible crear un enlace ancla poniendo la siguiente sentencia en donde se desea que se direccione el enlace `<a id=\"id\"></a>`, con un `id` único. Luego se utliza `[nombre de ref](#id)`para utilizar el enlace.\n",
    "\n",
    "  Ejemplo:\n",
    "  \n",
    "  <a id=\"01\"></a> \n",
    "  \n",
    "> Utilizo al referencia a este mismo lugar con `[ref01](#01)` [ref01](#01).\n",
    "  \n",
    "\n",
    "\n",
    "\n",
    "\n"
   ]
  },
  {
   "cell_type": "markdown",
   "id": "6221cbc0",
   "metadata": {},
   "source": [
    "### Insertar imágenes\n",
    "\n",
    "+ Una de las maneras es  arrastrando y soltando la imágenes en una de  las celdas de Markdown. Copiando y pegando. Pegando la imágen de una captura de pantalla. Se creará una sentencia `![imagenX.png](attachment:imagenX.png)`.\n",
    "+ Se pueden utlizar imágenes de la web utlizando la dirección url, con la misma sintaxis de hipervícunlos pero agregando el simboolo `!` al comenzar la sentencia. Se puede insertar una imagen sin conexión a la web añadiendo el nombre completo del archivo, con su ruta especificada, si esta está en un directorio diferente al de Jupyter Notebook.\n",
    "\n",
    " Ejemplos:\n",
    " \n",
    "> `![](https://jupyter.org/assets/homepage/main-logo.svg)`\n",
    "> ![](https://jupyter.org/assets/homepage/main-logo.svg)\n",
    "\n",
    " Si se desea que agregar un título flotante sobre la imágen, usar: (para verlo, pasar el ratón por encima)\n",
    "\n",
    "> `![](https://jupyter.org/assets/homepage/main-logo.svg \"Logo de Jupyter\")`\n",
    "> ![](https://jupyter.org/assets/homepage/main-logo.svg \"Logo de Jupyter\")\n"
   ]
  },
  {
   "cell_type": "markdown",
   "id": "237eec1f",
   "metadata": {},
   "source": [
    "### Notas al pie de página\n",
    "\n",
    "Para agregar un pie de página se puede usar la siguiente sintaxis `<sup><a href=\"#nota1\">1</a></sup>`. Ejemplo: \n",
    "\n",
    "Para que aparezcan en el texto hay que añadir una linea de sintaxis en donde se quiere que se muestre la nota de pie de página: `<p id=\"nota1\"><sup>1</sup> Texto de la nota de pie de página 1.</p>`. Ejemplo:\n",
    "\n",
    "><p>Este es el pie de página<sup><a href=\"#note1\">1</a></sup> puesto como ejemplo.</p>\n",
    "\n",
    "><p><strong>Notas al pie de página:</strong></p>  <p id=\"note1\"><sup>1</sup> Un pie de página es un texto explicativo o complementario y enlazado desde la localización del número del pie de página correspondiente.</p>"
   ]
  },
  {
   "cell_type": "markdown",
   "id": "91840f83",
   "metadata": {},
   "source": [
    "### Tablas\n",
    "\n",
    "Las tablas pueden ser creadas en una celda Markdown con los simbolos (\\|) y (-). Ejemplos:\n",
    "\n",
    ">| Col1  | Col2 |\n",
    " | --- | --- |\n",
    " | A | B  |\n",
    " | C  | D  |\n",
    " \n",
    " >| Comando | Descripción |\n",
    "  | --- | --- |\n",
    "  | git status | Lista de todos los archivos nuevos o modificados              |\n",
    "  | git diff   | Muestra diferenciass de **código** entre diferentes versiones |\n",
    "  \n",
    "\n",
    "Alineación en la tabla:\n",
    "\n",
    ">| Default | Left-aligned | Center-aligned | Right-aligned |\n",
    " |---|:-|:-:|-:|\n",
    " | A | A | A | A |\n",
    " \n",
    "\n",
    "><div class=\"alert alert-block alert-warning\">\n",
    "<b>Aparece alineado a derecha:</b> Parece que la alineación no está funcionando bien desde Junio de 2020 debido a un un error en el código fuente de Jupyter en el que no se tiene en cuenta la alineación de Markdown y todo el texto aparece alineado a la derecha.</div>\n",
    "\n",
    "Para que un símbolo usado en Markdown no se reconozca como parte de la sentencia, se precede con el símbolo de barra invertida (\\\\):\n",
    "\n",
    ">| Nombre   | Caracter |\n",
    " | ---      | ---      |\n",
    " | Backtick | \\`       |\n",
    " | Pipe     | \\|       |\n",
    "\n",
    "Podemos agregar títulos a las tablas en la parte inferior agregando una fila con el texto del título en Markdown `|Título de la tabla|`:\n",
    "\n",
    ">| Column1 | Column2 |\n",
    " |---|---|\n",
    " | A | B |\n",
    " |Tabla 1. Título de la tabla|\n",
    "\n",
    "Podemos realizar saltos de linea dentro de la tabla usando `<br>`:\n",
    "\n",
    "\n",
    ">| Column 1  | Column 2 |\n",
    " | --------  | -------- |\n",
    " | data      | Texto línea 1 <br> Texto línea 2 |\n"
   ]
  },
  {
   "cell_type": "markdown",
   "id": "efbc01e8",
   "metadata": {},
   "source": [
    "### Ecuaciones y texto matemático (Latex)\n",
    "\n",
    "Este software se enriquece al permitir incluir texto matemático y científico. Para hacerlo hay que incluirlo entre los simbolos de dolar ($). Ejemplo:\n",
    "\n",
    ">$P(A)=\\frac{|A|}{|\\Omega|}$\n",
    "\n",
    "Si se desea centrar el texto matemático se usan los simbolos de ($$) para abrir y cerrar el texto. Ejemplo:\n",
    "\n",
    ">$$P(A)=\\frac{|A|}{|\\Omega|}$$\n",
    "\n",
    "La siguiente imagen muestra algunos comandos de LaTex que pueden ser utiles para escribir algunas ecuaciones básicas.\n",
    "\n",
    "><figure><center>\n",
    "  <img src=\"https://miro.medium.com/max/875/1*IWiYqQTtZxmZg0-YCejPig.png\" alt=\"latex0\" width=400 height=400/>\n",
    "  <figcaption>Ejemplos de LaTex.  Photo: Shinichi Okada. <a href=\"https://towardsdatascience.com/7-essential-tips-for-writing-with-jupyter-notebook-60972a1a8901\">Source</a></figcaption>\n",
    "</center></figure> \n",
    "\n",
    "También se pueden escribir matrices:\n",
    "\n",
    "><figure><center>\n",
    "  <img src=\"https://miro.medium.com/max/766/1*iy1NDHoaxjU9Y0I7Q8ByHA.png\" alt=\"latex\" width=400 height=400/>\n",
    "  <figcaption>Escritura de matrices en LaTex.  Photo: Shinichi Okada. <a href=\"https://towardsdatascience.com/7-essential-tips-for-writing-with-jupyter-notebook-60972a1a8901\">Source</a></figcaption>\n",
    "</center></figure> \n",
    "\n",
    "O funciones a trozos:\n",
    "\n",
    ">$$\n",
    "\\begin{align}\n",
    "\\text{Función de densidad de la distribución uniforme:}\\\\\n",
    "f(x)=\n",
    "\\begin{cases}\n",
    "\\frac{1}{b-a}&\\text{for $x\\in[a,b]$}\\\\\n",
    "0&\\text{en otro caso}\\\\\n",
    "\\end{cases}\n",
    "\\\\\n",
    "\\text{Función acumulada de probabilidad:}\\\\\n",
    "F(x)=\n",
    "\\begin{cases}\n",
    "0&\\text{for $x<a$}\\\\\n",
    "\\frac{x-a}{b-a}&\\text{for $x\\in[a,b)$}\\\\\n",
    "1&\\text{for $x\\ge b$}\\\\\n",
    "\\end{cases}\n",
    "\\end{align}\n",
    "$$\n",
    "\n",
    "En los siguientes enlaces puede encontrar algunas [herramientas adicionales de LaTex](https://www.overleaf.com/learn/latex/Integrals%2C_sums_and_limits) \n",
    "o información sobre más [símbolos](https://oeis.org/wiki/List_of_LaTeX_mathematical_symbols) frecuentemente usados. \n",
    "\n",
    "También se puede usar `\\begin{equation} y \\end{equation}` para empezar y finalizar una formula o texto matemático:\n",
    "\n",
    ">\\begin{equation}\n",
    "X \\sim \\mathcal{N}(\\mu,\\,\\sigma^{2})\n",
    "\\end{equation}"
   ]
  }
 ],
 "metadata": {
  "hide_input": false,
  "ipub": {
   "titlepage": {
    "affiliation": "UNIR, Spain",
    "author": "Miller Janny Ariza Garzón",
    "email": "millerjanny.ariza@unir.net",
    "institution": [
     "UNIR"
    ],
    "logo": "https://www.unir.net/wp-content/uploads/2019/11/Unir_2021_logo.svg",
    "subtitle": "Sub-Title",
    "tagline": "A tagline for the report.",
    "title": "Taller de Herramientas de Jupyter Notebook"
   }
  },
  "kernelspec": {
   "display_name": "Python 3 (ipykernel)",
   "language": "python",
   "name": "python3"
  },
  "language_info": {
   "codemirror_mode": {
    "name": "ipython",
    "version": 3
   },
   "file_extension": ".py",
   "mimetype": "text/x-python",
   "name": "python",
   "nbconvert_exporter": "python",
   "pygments_lexer": "ipython3",
   "version": "3.9.12"
  },
  "latex_envs": {
   "LaTeX_envs_menu_present": true,
   "autoclose": false,
   "autocomplete": true,
   "bibliofile": "bibliography.bib",
   "cite_by": "apalike",
   "current_citInitial": 1,
   "eqLabelWithNumbers": true,
   "eqNumInitial": 1,
   "hotkeys": {
    "equation": "Ctrl-E",
    "itemize": "Ctrl-I"
   },
   "labels_anchors": false,
   "latex_user_defs": false,
   "report_style_numbering": false,
   "user_envs_cfg": false
  },
  "latex_metadata": {
   "affiliation": "UNIR, Spain",
   "author": "Miller Janny Ariza Garzón",
   "title": "Taller de Herramientas de Jupyter Notebook"
  },
  "toc": {
   "base_numbering": 1,
   "nav_menu": {
    "height": "240px",
    "width": "208px"
   },
   "number_sections": true,
   "sideBar": true,
   "skip_h1_title": true,
   "title_cell": "Tabla de Contenido",
   "title_sidebar": "Contenido",
   "toc_cell": false,
   "toc_position": {
    "height": "148px",
    "left": "30px",
    "top": "135.2px",
    "width": "165px"
   },
   "toc_section_display": true,
   "toc_window_display": true
  }
 },
 "nbformat": 4,
 "nbformat_minor": 5
}
