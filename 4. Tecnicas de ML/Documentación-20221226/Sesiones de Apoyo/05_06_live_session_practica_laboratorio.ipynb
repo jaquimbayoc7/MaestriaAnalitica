{
 "cells": [
  {
   "cell_type": "markdown",
   "id": "19825882-6a8f-4a90-b89c-58757e93b9bd",
   "metadata": {},
   "source": [
    "# Sesión 5 y 6: Live session: apoyo para Laboratorio"
   ]
  },
  {
   "cell_type": "code",
   "execution_count": 1,
   "id": "d13eb4b8-08fb-4c32-9ce0-6196283490c8",
   "metadata": {},
   "outputs": [],
   "source": [
    "import pandas as pd\n",
    "import numpy as np\n",
    "import matplotlib.pyplot as plt\n",
    "import seaborn as sns"
   ]
  },
  {
   "cell_type": "code",
   "execution_count": 2,
   "id": "c9085495-acad-4d20-831c-438714740cb9",
   "metadata": {},
   "outputs": [],
   "source": [
    "df = pd.read_csv(\"https://raw.githubusercontent.com/double-thinker/datasets/main/example_students.csv\")"
   ]
  },
  {
   "cell_type": "code",
   "execution_count": 3,
   "id": "dcd3baf9-efb9-405c-af79-820309d7f96a",
   "metadata": {},
   "outputs": [
    {
     "data": {
      "text/html": [
       "<div>\n",
       "<style scoped>\n",
       "    .dataframe tbody tr th:only-of-type {\n",
       "        vertical-align: middle;\n",
       "    }\n",
       "\n",
       "    .dataframe tbody tr th {\n",
       "        vertical-align: top;\n",
       "    }\n",
       "\n",
       "    .dataframe thead th {\n",
       "        text-align: right;\n",
       "    }\n",
       "</style>\n",
       "<table border=\"1\" class=\"dataframe\">\n",
       "  <thead>\n",
       "    <tr style=\"text-align: right;\">\n",
       "      <th></th>\n",
       "      <th>progenitor1</th>\n",
       "      <th>progenitor2</th>\n",
       "      <th>nota</th>\n",
       "    </tr>\n",
       "  </thead>\n",
       "  <tbody>\n",
       "    <tr>\n",
       "      <th>0</th>\n",
       "      <td>alto</td>\n",
       "      <td>bajo</td>\n",
       "      <td>B</td>\n",
       "    </tr>\n",
       "    <tr>\n",
       "      <th>1</th>\n",
       "      <td>alto</td>\n",
       "      <td>alto</td>\n",
       "      <td>A</td>\n",
       "    </tr>\n",
       "    <tr>\n",
       "      <th>2</th>\n",
       "      <td>alto</td>\n",
       "      <td>medio</td>\n",
       "      <td>A</td>\n",
       "    </tr>\n",
       "    <tr>\n",
       "      <th>3</th>\n",
       "      <td>medio</td>\n",
       "      <td>alto</td>\n",
       "      <td>B</td>\n",
       "    </tr>\n",
       "    <tr>\n",
       "      <th>4</th>\n",
       "      <td>alto</td>\n",
       "      <td>bajo</td>\n",
       "      <td>C</td>\n",
       "    </tr>\n",
       "  </tbody>\n",
       "</table>\n",
       "</div>"
      ],
      "text/plain": [
       "  progenitor1 progenitor2 nota\n",
       "0        alto        bajo    B\n",
       "1        alto        alto    A\n",
       "2        alto       medio    A\n",
       "3       medio        alto    B\n",
       "4        alto        bajo    C"
      ]
     },
     "execution_count": 3,
     "metadata": {},
     "output_type": "execute_result"
    }
   ],
   "source": [
    "df.head()"
   ]
  },
  {
   "cell_type": "code",
   "execution_count": 4,
   "id": "3ceb9ab3-15bc-405b-a66f-dfaa00966ad8",
   "metadata": {},
   "outputs": [
    {
     "name": "stdout",
     "output_type": "stream",
     "text": [
      "<class 'pandas.core.frame.DataFrame'>\n",
      "RangeIndex: 500 entries, 0 to 499\n",
      "Data columns (total 3 columns):\n",
      " #   Column       Non-Null Count  Dtype \n",
      "---  ------       --------------  ----- \n",
      " 0   progenitor1  500 non-null    object\n",
      " 1   progenitor2  500 non-null    object\n",
      " 2   nota         500 non-null    object\n",
      "dtypes: object(3)\n",
      "memory usage: 11.8+ KB\n"
     ]
    }
   ],
   "source": [
    "df.info()"
   ]
  },
  {
   "cell_type": "code",
   "execution_count": 5,
   "id": "a313704c-349f-481e-9701-cfc0986ee7ac",
   "metadata": {},
   "outputs": [
    {
     "data": {
      "text/plain": [
       "<AxesSubplot:>"
      ]
     },
     "execution_count": 5,
     "metadata": {},
     "output_type": "execute_result"
    },
    {
     "data": {
      "image/png": "[encoded data removed]",
      "text/plain": [
       "<Figure size 432x288 with 1 Axes>"
      ]
     },
     "metadata": {
      "needs_background": "light"
     },
     "output_type": "display_data"
    }
   ],
   "source": [
    "df.nota.value_counts().plot.bar()"
   ]
  },
  {
   "cell_type": "code",
   "execution_count": 7,
   "id": "1fb02c46-f0c3-4d50-acf2-dd5502cfeb58",
   "metadata": {},
   "outputs": [],
   "source": [
    "from sklearn.tree import DecisionTreeClassifier\n",
    "from sklearn.model_selection import train_test_split"
   ]
  },
  {
   "cell_type": "code",
   "execution_count": 11,
   "id": "806a80e6",
   "metadata": {},
   "outputs": [],
   "source": [
    "X = df.drop(columns=[\"nota\"])\n",
    "y = df.nota"
   ]
  },
  {
   "cell_type": "code",
   "execution_count": 12,
   "id": "945a81f3",
   "metadata": {},
   "outputs": [],
   "source": [
    "train_test_split?"
   ]
  },
  {
   "cell_type": "code",
   "execution_count": 13,
   "id": "455f9b11",
   "metadata": {},
   "outputs": [],
   "source": [
    "X_train, X_test, y_train, y_test = train_test_split(X, y, test_size=0.20)"
   ]
  },
  {
   "cell_type": "code",
   "execution_count": 16,
   "id": "6c2ee63d",
   "metadata": {},
   "outputs": [],
   "source": [
    "model = DecisionTreeClassifier()"
   ]
  },
  {
   "attachments": {
    "image.png": {
     "image/png": "[encoded data removed]"
    }
   },
   "cell_type": "markdown",
   "id": "bc0bbe34",
   "metadata": {},
   "source": [
    "![image.png](attachment:image.png)"
   ]
  },
  {
   "attachments": {
    "image.png": {
     "image/png": "[encoded data removed]"
    }
   },
   "cell_type": "markdown",
   "id": "b0941cd6",
   "metadata": {},
   "source": [
    "![image.png](attachment:image.png)"
   ]
  },
  {
   "cell_type": "markdown",
   "id": "b05fd816",
   "metadata": {},
   "source": [
    "# Codificación de variables"
   ]
  },
  {
   "cell_type": "code",
   "execution_count": 22,
   "id": "5a0d8818",
   "metadata": {},
   "outputs": [
    {
     "data": {
      "text/plain": [
       "0      2\n",
       "1      2\n",
       "2      2\n",
       "3      1\n",
       "4      2\n",
       "      ..\n",
       "495    0\n",
       "496    0\n",
       "497    0\n",
       "498    2\n",
       "499    2\n",
       "Name: progenitor1, Length: 500, dtype: int64"
      ]
     },
     "execution_count": 22,
     "metadata": {},
     "output_type": "execute_result"
    }
   ],
   "source": [
    "# A mano, más largo. Sirve si hay pocas opciones y variables\n",
    "df.progenitor1.replace({\n",
    "    \"bajo\": 0,\n",
    "    \"medio\": 1,\n",
    "    \"alto\": 2\n",
    "})"
   ]
  },
  {
   "cell_type": "code",
   "execution_count": 23,
   "id": "d1a34f9c",
   "metadata": {},
   "outputs": [],
   "source": [
    "from sklearn.preprocessing import LabelEncoder, OrdinalEncoder, OneHotEncoder"
   ]
  },
  {
   "cell_type": "code",
   "execution_count": 24,
   "id": "45376424",
   "metadata": {},
   "outputs": [],
   "source": [
    "oe = OrdinalEncoder()"
   ]
  },
  {
   "cell_type": "code",
   "execution_count": 26,
   "id": "823d3bc8",
   "metadata": {},
   "outputs": [
    {
     "data": {
      "text/html": [
       "<div>\n",
       "<style scoped>\n",
       "    .dataframe tbody tr th:only-of-type {\n",
       "        vertical-align: middle;\n",
       "    }\n",
       "\n",
       "    .dataframe tbody tr th {\n",
       "        vertical-align: top;\n",
       "    }\n",
       "\n",
       "    .dataframe thead th {\n",
       "        text-align: right;\n",
       "    }\n",
       "</style>\n",
       "<table border=\"1\" class=\"dataframe\">\n",
       "  <thead>\n",
       "    <tr style=\"text-align: right;\">\n",
       "      <th></th>\n",
       "      <th>progenitor1</th>\n",
       "      <th>progenitor2</th>\n",
       "    </tr>\n",
       "  </thead>\n",
       "  <tbody>\n",
       "    <tr>\n",
       "      <th>126</th>\n",
       "      <td>bajo</td>\n",
       "      <td>bajo</td>\n",
       "    </tr>\n",
       "    <tr>\n",
       "      <th>335</th>\n",
       "      <td>medio</td>\n",
       "      <td>bajo</td>\n",
       "    </tr>\n",
       "    <tr>\n",
       "      <th>354</th>\n",
       "      <td>medio</td>\n",
       "      <td>medio</td>\n",
       "    </tr>\n",
       "    <tr>\n",
       "      <th>323</th>\n",
       "      <td>medio</td>\n",
       "      <td>medio</td>\n",
       "    </tr>\n",
       "    <tr>\n",
       "      <th>74</th>\n",
       "      <td>bajo</td>\n",
       "      <td>bajo</td>\n",
       "    </tr>\n",
       "    <tr>\n",
       "      <th>...</th>\n",
       "      <td>...</td>\n",
       "      <td>...</td>\n",
       "    </tr>\n",
       "    <tr>\n",
       "      <th>488</th>\n",
       "      <td>bajo</td>\n",
       "      <td>bajo</td>\n",
       "    </tr>\n",
       "    <tr>\n",
       "      <th>235</th>\n",
       "      <td>medio</td>\n",
       "      <td>medio</td>\n",
       "    </tr>\n",
       "    <tr>\n",
       "      <th>381</th>\n",
       "      <td>bajo</td>\n",
       "      <td>bajo</td>\n",
       "    </tr>\n",
       "    <tr>\n",
       "      <th>231</th>\n",
       "      <td>alto</td>\n",
       "      <td>medio</td>\n",
       "    </tr>\n",
       "    <tr>\n",
       "      <th>459</th>\n",
       "      <td>alto</td>\n",
       "      <td>bajo</td>\n",
       "    </tr>\n",
       "  </tbody>\n",
       "</table>\n",
       "<p>400 rows × 2 columns</p>\n",
       "</div>"
      ],
      "text/plain": [
       "    progenitor1 progenitor2\n",
       "126        bajo        bajo\n",
       "335       medio        bajo\n",
       "354       medio       medio\n",
       "323       medio       medio\n",
       "74         bajo        bajo\n",
       "..          ...         ...\n",
       "488        bajo        bajo\n",
       "235       medio       medio\n",
       "381        bajo        bajo\n",
       "231        alto       medio\n",
       "459        alto        bajo\n",
       "\n",
       "[400 rows x 2 columns]"
      ]
     },
     "execution_count": 26,
     "metadata": {},
     "output_type": "execute_result"
    }
   ],
   "source": [
    "X_train"
   ]
  },
  {
   "cell_type": "code",
   "execution_count": 25,
   "id": "02796348",
   "metadata": {},
   "outputs": [
    {
     "data": {
      "text/plain": [
       "array([[1., 1.],\n",
       "       [2., 1.],\n",
       "       [2., 2.],\n",
       "       [2., 2.],\n",
       "       [1., 1.],\n",
       "       [1., 1.],\n",
       "       [1., 0.],\n",
       "       [2., 0.],\n",
       "       [2., 2.],\n",
       "       [0., 0.],\n",
       "       [2., 2.],\n",
       "       [2., 0.],\n",
       "       [0., 1.],\n",
       "       [2., 1.],\n",
       "       [0., 2.],\n",
       "       [1., 0.],\n",
       "       [1., 0.],\n",
       "       [0., 1.],\n",
       "       [0., 0.],\n",
       "       [0., 2.],\n",
       "       [2., 1.],\n",
       "       [2., 1.],\n",
       "       [2., 1.],\n",
       "       [1., 2.],\n",
       "       [0., 0.],\n",
       "       [1., 2.],\n",
       "       [2., 1.],\n",
       "       [2., 1.],\n",
       "       [2., 0.],\n",
       "       [2., 2.],\n",
       "       [2., 1.],\n",
       "       [2., 1.],\n",
       "       [1., 0.],\n",
       "       [1., 1.],\n",
       "       [2., 0.],\n",
       "       [1., 0.],\n",
       "       [0., 0.],\n",
       "       [2., 0.],\n",
       "       [0., 2.],\n",
       "       [0., 0.],\n",
       "       [2., 2.],\n",
       "       [1., 0.],\n",
       "       [2., 0.],\n",
       "       [1., 2.],\n",
       "       [2., 2.],\n",
       "       [0., 1.],\n",
       "       [2., 1.],\n",
       "       [2., 1.],\n",
       "       [2., 1.],\n",
       "       [2., 2.],\n",
       "       [0., 1.],\n",
       "       [2., 1.],\n",
       "       [2., 0.],\n",
       "       [1., 2.],\n",
       "       [1., 2.],\n",
       "       [1., 2.],\n",
       "       [0., 1.],\n",
       "       [2., 0.],\n",
       "       [2., 0.],\n",
       "       [0., 0.],\n",
       "       [1., 2.],\n",
       "       [2., 1.],\n",
       "       [1., 2.],\n",
       "       [1., 1.],\n",
       "       [1., 0.],\n",
       "       [2., 0.],\n",
       "       [0., 2.],\n",
       "       [1., 0.],\n",
       "       [2., 1.],\n",
       "       [2., 0.],\n",
       "       [1., 0.],\n",
       "       [1., 2.],\n",
       "       [2., 1.],\n",
       "       [2., 2.],\n",
       "       [0., 1.],\n",
       "       [1., 0.],\n",
       "       [0., 2.],\n",
       "       [1., 0.],\n",
       "       [0., 0.],\n",
       "       [2., 1.],\n",
       "       [2., 1.],\n",
       "       [0., 1.],\n",
       "       [2., 0.],\n",
       "       [0., 2.],\n",
       "       [0., 1.],\n",
       "       [1., 2.],\n",
       "       [1., 1.],\n",
       "       [2., 2.],\n",
       "       [1., 0.],\n",
       "       [2., 0.],\n",
       "       [1., 2.],\n",
       "       [0., 1.],\n",
       "       [0., 0.],\n",
       "       [2., 1.],\n",
       "       [0., 0.],\n",
       "       [0., 0.],\n",
       "       [1., 0.],\n",
       "       [1., 1.],\n",
       "       [0., 2.],\n",
       "       [2., 2.],\n",
       "       [0., 0.],\n",
       "       [2., 2.],\n",
       "       [2., 1.],\n",
       "       [2., 1.],\n",
       "       [1., 2.],\n",
       "       [1., 2.],\n",
       "       [2., 2.],\n",
       "       [0., 0.],\n",
       "       [2., 2.],\n",
       "       [1., 2.],\n",
       "       [2., 0.],\n",
       "       [0., 0.],\n",
       "       [0., 0.],\n",
       "       [1., 0.],\n",
       "       [0., 0.],\n",
       "       [2., 2.],\n",
       "       [1., 0.],\n",
       "       [1., 1.],\n",
       "       [1., 0.],\n",
       "       [2., 0.],\n",
       "       [0., 2.],\n",
       "       [2., 0.],\n",
       "       [0., 1.],\n",
       "       [1., 1.],\n",
       "       [1., 2.],\n",
       "       [1., 1.],\n",
       "       [0., 0.],\n",
       "       [2., 2.],\n",
       "       [2., 1.],\n",
       "       [0., 1.],\n",
       "       [0., 2.],\n",
       "       [0., 0.],\n",
       "       [0., 0.],\n",
       "       [1., 1.],\n",
       "       [1., 0.],\n",
       "       [2., 0.],\n",
       "       [0., 2.],\n",
       "       [0., 0.],\n",
       "       [1., 0.],\n",
       "       [2., 1.],\n",
       "       [1., 2.],\n",
       "       [2., 2.],\n",
       "       [0., 1.],\n",
       "       [0., 0.],\n",
       "       [0., 0.],\n",
       "       [1., 0.],\n",
       "       [0., 0.],\n",
       "       [1., 0.],\n",
       "       [0., 0.],\n",
       "       [2., 1.],\n",
       "       [0., 1.],\n",
       "       [0., 2.],\n",
       "       [2., 0.],\n",
       "       [0., 1.],\n",
       "       [1., 2.],\n",
       "       [1., 2.],\n",
       "       [1., 1.],\n",
       "       [2., 0.],\n",
       "       [1., 2.],\n",
       "       [1., 0.],\n",
       "       [2., 0.],\n",
       "       [1., 2.],\n",
       "       [2., 1.],\n",
       "       [0., 1.],\n",
       "       [0., 0.],\n",
       "       [1., 1.],\n",
       "       [1., 0.],\n",
       "       [1., 2.],\n",
       "       [1., 1.],\n",
       "       [1., 1.],\n",
       "       [0., 1.],\n",
       "       [2., 0.],\n",
       "       [1., 0.],\n",
       "       [1., 2.],\n",
       "       [1., 0.],\n",
       "       [0., 2.],\n",
       "       [2., 1.],\n",
       "       [0., 1.],\n",
       "       [2., 0.],\n",
       "       [0., 2.],\n",
       "       [2., 1.],\n",
       "       [2., 2.],\n",
       "       [1., 1.],\n",
       "       [0., 0.],\n",
       "       [2., 0.],\n",
       "       [0., 1.],\n",
       "       [0., 0.],\n",
       "       [0., 2.],\n",
       "       [2., 0.],\n",
       "       [1., 2.],\n",
       "       [2., 0.],\n",
       "       [1., 2.],\n",
       "       [2., 0.],\n",
       "       [2., 0.],\n",
       "       [0., 1.],\n",
       "       [0., 1.],\n",
       "       [2., 2.],\n",
       "       [1., 0.],\n",
       "       [2., 2.],\n",
       "       [2., 0.],\n",
       "       [1., 2.],\n",
       "       [1., 2.],\n",
       "       [1., 0.],\n",
       "       [1., 1.],\n",
       "       [0., 1.],\n",
       "       [2., 2.],\n",
       "       [2., 0.],\n",
       "       [0., 1.],\n",
       "       [2., 0.],\n",
       "       [2., 2.],\n",
       "       [2., 2.],\n",
       "       [0., 1.],\n",
       "       [0., 1.],\n",
       "       [2., 2.],\n",
       "       [1., 1.],\n",
       "       [2., 1.],\n",
       "       [2., 2.],\n",
       "       [1., 1.],\n",
       "       [0., 0.],\n",
       "       [0., 1.],\n",
       "       [2., 0.],\n",
       "       [1., 1.],\n",
       "       [1., 2.],\n",
       "       [0., 0.],\n",
       "       [0., 1.],\n",
       "       [0., 0.],\n",
       "       [2., 0.],\n",
       "       [2., 0.],\n",
       "       [2., 0.],\n",
       "       [1., 1.],\n",
       "       [2., 1.],\n",
       "       [2., 0.],\n",
       "       [0., 2.],\n",
       "       [0., 0.],\n",
       "       [2., 0.],\n",
       "       [2., 0.],\n",
       "       [2., 0.],\n",
       "       [0., 1.],\n",
       "       [2., 2.],\n",
       "       [2., 0.],\n",
       "       [0., 0.],\n",
       "       [1., 1.],\n",
       "       [0., 0.],\n",
       "       [0., 0.],\n",
       "       [0., 2.],\n",
       "       [1., 1.],\n",
       "       [1., 2.],\n",
       "       [1., 1.],\n",
       "       [1., 2.],\n",
       "       [2., 1.],\n",
       "       [0., 1.],\n",
       "       [0., 1.],\n",
       "       [2., 0.],\n",
       "       [2., 2.],\n",
       "       [1., 1.],\n",
       "       [2., 0.],\n",
       "       [1., 2.],\n",
       "       [1., 0.],\n",
       "       [2., 1.],\n",
       "       [0., 2.],\n",
       "       [1., 1.],\n",
       "       [0., 1.],\n",
       "       [0., 0.],\n",
       "       [0., 0.],\n",
       "       [2., 2.],\n",
       "       [1., 0.],\n",
       "       [2., 1.],\n",
       "       [2., 0.],\n",
       "       [1., 1.],\n",
       "       [1., 0.],\n",
       "       [1., 2.],\n",
       "       [0., 2.],\n",
       "       [2., 2.],\n",
       "       [2., 0.],\n",
       "       [2., 1.],\n",
       "       [0., 1.],\n",
       "       [1., 1.],\n",
       "       [2., 1.],\n",
       "       [1., 0.],\n",
       "       [0., 0.],\n",
       "       [1., 0.],\n",
       "       [2., 2.],\n",
       "       [1., 1.],\n",
       "       [0., 2.],\n",
       "       [2., 1.],\n",
       "       [0., 1.],\n",
       "       [0., 0.],\n",
       "       [1., 1.],\n",
       "       [2., 1.],\n",
       "       [1., 1.],\n",
       "       [2., 2.],\n",
       "       [2., 1.],\n",
       "       [2., 2.],\n",
       "       [0., 2.],\n",
       "       [1., 2.],\n",
       "       [0., 2.],\n",
       "       [1., 1.],\n",
       "       [0., 2.],\n",
       "       [0., 1.],\n",
       "       [0., 0.],\n",
       "       [1., 0.],\n",
       "       [1., 0.],\n",
       "       [0., 0.],\n",
       "       [0., 0.],\n",
       "       [1., 2.],\n",
       "       [2., 1.],\n",
       "       [2., 2.],\n",
       "       [2., 1.],\n",
       "       [1., 2.],\n",
       "       [0., 1.],\n",
       "       [1., 2.],\n",
       "       [0., 2.],\n",
       "       [0., 0.],\n",
       "       [2., 0.],\n",
       "       [1., 1.],\n",
       "       [2., 2.],\n",
       "       [1., 0.],\n",
       "       [2., 1.],\n",
       "       [2., 2.],\n",
       "       [0., 1.],\n",
       "       [0., 2.],\n",
       "       [0., 0.],\n",
       "       [2., 2.],\n",
       "       [1., 1.],\n",
       "       [0., 2.],\n",
       "       [2., 1.],\n",
       "       [1., 1.],\n",
       "       [0., 0.],\n",
       "       [1., 1.],\n",
       "       [1., 0.],\n",
       "       [2., 1.],\n",
       "       [0., 0.],\n",
       "       [1., 2.],\n",
       "       [0., 2.],\n",
       "       [0., 2.],\n",
       "       [0., 1.],\n",
       "       [0., 1.],\n",
       "       [0., 2.],\n",
       "       [2., 0.],\n",
       "       [2., 1.],\n",
       "       [0., 0.],\n",
       "       [0., 1.],\n",
       "       [1., 1.],\n",
       "       [0., 0.],\n",
       "       [1., 2.],\n",
       "       [2., 2.],\n",
       "       [2., 1.],\n",
       "       [2., 1.],\n",
       "       [1., 2.],\n",
       "       [2., 0.],\n",
       "       [0., 2.],\n",
       "       [0., 1.],\n",
       "       [1., 2.],\n",
       "       [2., 1.],\n",
       "       [1., 0.],\n",
       "       [1., 2.],\n",
       "       [1., 1.],\n",
       "       [1., 0.],\n",
       "       [0., 0.],\n",
       "       [0., 0.],\n",
       "       [1., 0.],\n",
       "       [0., 0.],\n",
       "       [2., 0.],\n",
       "       [1., 2.],\n",
       "       [0., 1.],\n",
       "       [0., 0.],\n",
       "       [2., 1.],\n",
       "       [0., 2.],\n",
       "       [0., 1.],\n",
       "       [1., 2.],\n",
       "       [0., 1.],\n",
       "       [0., 0.],\n",
       "       [1., 0.],\n",
       "       [2., 0.],\n",
       "       [0., 1.],\n",
       "       [2., 0.],\n",
       "       [2., 2.],\n",
       "       [0., 1.],\n",
       "       [1., 2.],\n",
       "       [2., 0.],\n",
       "       [0., 0.],\n",
       "       [2., 2.],\n",
       "       [2., 0.],\n",
       "       [2., 1.],\n",
       "       [0., 0.],\n",
       "       [1., 1.],\n",
       "       [1., 1.],\n",
       "       [1., 1.],\n",
       "       [2., 2.],\n",
       "       [1., 2.],\n",
       "       [1., 2.],\n",
       "       [2., 2.],\n",
       "       [1., 0.],\n",
       "       [2., 2.],\n",
       "       [0., 0.],\n",
       "       [1., 1.],\n",
       "       [2., 2.],\n",
       "       [1., 1.],\n",
       "       [0., 2.],\n",
       "       [0., 1.]])"
      ]
     },
     "execution_count": 25,
     "metadata": {},
     "output_type": "execute_result"
    }
   ],
   "source": [
    "oe.fit_transform(X_train)"
   ]
  },
  {
   "cell_type": "markdown",
   "id": "38111282",
   "metadata": {},
   "source": [
    "Nota: Os aconsejo que aprendáis a usar Pipeline. Lo veremos en otra sesión"
   ]
  },
  {
   "cell_type": "markdown",
   "id": "ec24be9d",
   "metadata": {},
   "source": [
    "Usar un encoder **NO GARANTIZA** que la codificación esté bien. En este caso no se respeta la ordinalidad"
   ]
  },
  {
   "cell_type": "code",
   "execution_count": 27,
   "id": "12cdcacb",
   "metadata": {},
   "outputs": [],
   "source": [
    "# Fijar el \"orden\" de las categorías\n",
    "valores = [\"bajo\", \"medio\", \"alto\"]"
   ]
  },
  {
   "cell_type": "code",
   "execution_count": 33,
   "id": "44ee6de0",
   "metadata": {},
   "outputs": [],
   "source": [
    "# Ponemos dos veces valores porque hay dos columnas\n",
    "oe = OrdinalEncoder(categories=[valores, valores])"
   ]
  },
  {
   "cell_type": "code",
   "execution_count": 32,
   "id": "9da5d6cd",
   "metadata": {},
   "outputs": [],
   "source": [
    "X_train = oe.fit_transform(X_train)"
   ]
  },
  {
   "cell_type": "code",
   "execution_count": 36,
   "id": "1dae55e0",
   "metadata": {},
   "outputs": [],
   "source": [
    "X_test = oe.fit_transform(X_test)"
   ]
  },
  {
   "cell_type": "markdown",
   "id": "3f3a4bd6",
   "metadata": {},
   "source": [
    "##  Ejemplo de OHE"
   ]
  },
  {
   "cell_type": "code",
   "execution_count": 39,
   "id": "12cff769",
   "metadata": {},
   "outputs": [
    {
     "data": {
      "text/plain": [
       "<500x6 sparse matrix of type '<class 'numpy.float64'>'\n",
       "\twith 1000 stored elements in Compressed Sparse Row format>"
      ]
     },
     "execution_count": 39,
     "metadata": {},
     "output_type": "execute_result"
    }
   ],
   "source": [
    "ohe = OneHotEncoder()\n",
    "ohe.fit_transform(X)"
   ]
  },
  {
   "cell_type": "markdown",
   "id": "6e523876",
   "metadata": {},
   "source": [
    "Conseguimos 6 columnas:"
   ]
  },
  {
   "cell_type": "code",
   "execution_count": 42,
   "id": "10ebf7e3",
   "metadata": {},
   "outputs": [
    {
     "data": {
      "text/plain": [
       "array(['progenitor1_alto', 'progenitor1_bajo', 'progenitor1_medio',\n",
       "       'progenitor2_alto', 'progenitor2_bajo', 'progenitor2_medio'],\n",
       "      dtype=object)"
      ]
     },
     "execution_count": 42,
     "metadata": {},
     "output_type": "execute_result"
    }
   ],
   "source": [
    "ohe.get_feature_names_out()"
   ]
  },
  {
   "cell_type": "markdown",
   "id": "1183728d",
   "metadata": {},
   "source": [
    "## Entrenamos"
   ]
  },
  {
   "cell_type": "code",
   "execution_count": 43,
   "id": "378ee2b0",
   "metadata": {},
   "outputs": [
    {
     "data": {
      "text/plain": [
       "DecisionTreeClassifier()"
      ]
     },
     "execution_count": 43,
     "metadata": {},
     "output_type": "execute_result"
    }
   ],
   "source": [
    "model.fit(X_train, y_train)"
   ]
  },
  {
   "cell_type": "markdown",
   "id": "dba7de84",
   "metadata": {},
   "source": [
    "¡¡Funciona!!"
   ]
  },
  {
   "cell_type": "markdown",
   "id": "0e64045b",
   "metadata": {},
   "source": [
    "## Evaluación"
   ]
  },
  {
   "cell_type": "markdown",
   "id": "396b3db7",
   "metadata": {},
   "source": [
    "**AVISO A NAVEGANTES**: Los encodings y preprocesamientos **se aplican a train y test por igual**"
   ]
  },
  {
   "cell_type": "markdown",
   "id": "bc1de328",
   "metadata": {},
   "source": [
    "**AVISO A NAVEGANTES II**: ¿Qué pasa si hago el encoding con todo y luego hago la división? En algunos casos todo irá OK. En otros tendrás un problema de **data leaking**"
   ]
  },
  {
   "cell_type": "markdown",
   "id": "f084f977",
   "metadata": {},
   "source": [
    "Ej: si normalizo usando la **media de todo el dataset** estoy rompiendo la división train/test. Es decir, estoy **filtrando información**"
   ]
  },
  {
   "cell_type": "markdown",
   "id": "75e3bcde",
   "metadata": {},
   "source": [
    "Esto se soluciona:\n",
    "\n",
    "1. Teniendo mucho cuidado y sabiendo lo que haces.\n",
    "2. Usando Pipeline(s)"
   ]
  },
  {
   "cell_type": "markdown",
   "id": "fa613108",
   "metadata": {},
   "source": [
    "### Calcular el \"hat\" o \"predict\" del test\n"
   ]
  },
  {
   "cell_type": "code",
   "execution_count": 44,
   "id": "00aaed1a",
   "metadata": {},
   "outputs": [],
   "source": [
    "y_test_hat = model.predict(X_test)"
   ]
  },
  {
   "cell_type": "code",
   "execution_count": 45,
   "id": "54b32d03",
   "metadata": {},
   "outputs": [
    {
     "data": {
      "text/plain": [
       "168    D\n",
       "432    F\n",
       "149    F\n",
       "377    D\n",
       "139    D\n",
       "      ..\n",
       "222    F\n",
       "178    B\n",
       "431    A\n",
       "209    A\n",
       "319    D\n",
       "Name: nota, Length: 100, dtype: object"
      ]
     },
     "execution_count": 45,
     "metadata": {},
     "output_type": "execute_result"
    }
   ],
   "source": [
    "y_test"
   ]
  },
  {
   "cell_type": "code",
   "execution_count": 46,
   "id": "fec07ec1",
   "metadata": {},
   "outputs": [
    {
     "data": {
      "text/plain": [
       "array(['C', 'F', 'F', 'C', 'C', 'C', 'C', 'C', 'F', 'E', 'A', 'C', 'B',\n",
       "       'C', 'C', 'C', 'E', 'D', 'E', 'B', 'C', 'E', 'E', 'A', 'E', 'C',\n",
       "       'C', 'C', 'E', 'E', 'A', 'F', 'C', 'C', 'A', 'B', 'C', 'C', 'C',\n",
       "       'B', 'E', 'D', 'B', 'B', 'A', 'B', 'E', 'C', 'C', 'A', 'B', 'C',\n",
       "       'F', 'B', 'E', 'C', 'E', 'C', 'E', 'E', 'E', 'C', 'A', 'A', 'C',\n",
       "       'D', 'A', 'D', 'E', 'F', 'E', 'C', 'B', 'A', 'B', 'F', 'F', 'A',\n",
       "       'B', 'C', 'C', 'C', 'A', 'D', 'E', 'D', 'A', 'D', 'A', 'C', 'C',\n",
       "       'C', 'E', 'E', 'E', 'F', 'C', 'A', 'A', 'E'], dtype=object)"
      ]
     },
     "execution_count": 46,
     "metadata": {},
     "output_type": "execute_result"
    }
   ],
   "source": [
    "y_test_hat"
   ]
  },
  {
   "cell_type": "code",
   "execution_count": 47,
   "id": "0009644a",
   "metadata": {},
   "outputs": [
    {
     "data": {
      "text/plain": [
       "168    False\n",
       "432     True\n",
       "149     True\n",
       "377    False\n",
       "139    False\n",
       "       ...  \n",
       "222     True\n",
       "178    False\n",
       "431     True\n",
       "209     True\n",
       "319    False\n",
       "Name: nota, Length: 100, dtype: bool"
      ]
     },
     "execution_count": 47,
     "metadata": {},
     "output_type": "execute_result"
    }
   ],
   "source": [
    "y_test == y_test_hat"
   ]
  },
  {
   "cell_type": "code",
   "execution_count": 48,
   "id": "1aa4667b",
   "metadata": {},
   "outputs": [
    {
     "data": {
      "text/plain": [
       "45"
      ]
     },
     "execution_count": 48,
     "metadata": {},
     "output_type": "execute_result"
    }
   ],
   "source": [
    "(y_test == y_test_hat).sum()"
   ]
  },
  {
   "cell_type": "code",
   "execution_count": 49,
   "id": "d96193fc",
   "metadata": {},
   "outputs": [
    {
     "data": {
      "text/plain": [
       "0.45"
      ]
     },
     "execution_count": 49,
     "metadata": {},
     "output_type": "execute_result"
    }
   ],
   "source": [
    "# 100 es el tamaño del test\n",
    "45 / 100"
   ]
  },
  {
   "cell_type": "code",
   "execution_count": 56,
   "id": "ef6fcda6",
   "metadata": {},
   "outputs": [],
   "source": [
    "from sklearn.metrics import accuracy_score, classification_report, confusion_matrix"
   ]
  },
  {
   "cell_type": "code",
   "execution_count": 51,
   "id": "bd15da81",
   "metadata": {},
   "outputs": [],
   "source": [
    "accuracy_score?"
   ]
  },
  {
   "cell_type": "code",
   "execution_count": 52,
   "id": "6885ac18",
   "metadata": {},
   "outputs": [
    {
     "data": {
      "text/plain": [
       "0.45"
      ]
     },
     "execution_count": 52,
     "metadata": {},
     "output_type": "execute_result"
    }
   ],
   "source": [
    "accuracy_score(y_test, y_test_hat)"
   ]
  },
  {
   "cell_type": "code",
   "execution_count": 55,
   "id": "797fdb62",
   "metadata": {},
   "outputs": [
    {
     "name": "stdout",
     "output_type": "stream",
     "text": [
      "              precision    recall  f1-score   support\n",
      "\n",
      "           A       0.81      0.59      0.68        22\n",
      "           B       0.33      0.25      0.29        16\n",
      "           C       0.32      0.85      0.47        13\n",
      "           D       0.14      0.06      0.08        18\n",
      "           E       0.32      0.50      0.39        14\n",
      "           F       1.00      0.53      0.69        17\n",
      "\n",
      "    accuracy                           0.45       100\n",
      "   macro avg       0.49      0.46      0.43       100\n",
      "weighted avg       0.51      0.45      0.44       100\n",
      "\n"
     ]
    }
   ],
   "source": [
    "print(classification_report(y_test, y_test_hat))"
   ]
  },
  {
   "cell_type": "code",
   "execution_count": 60,
   "id": "f0f354c7",
   "metadata": {},
   "outputs": [],
   "source": [
    "cm = confusion_matrix(y_test, y_test_hat, labels=[\"A\", \"B\", \"C\", \"D\", \"E\", \"F\"])"
   ]
  },
  {
   "cell_type": "code",
   "execution_count": 61,
   "id": "4340467e",
   "metadata": {},
   "outputs": [],
   "source": [
    "from sklearn.metrics import ConfusionMatrixDisplay"
   ]
  },
  {
   "cell_type": "code",
   "execution_count": 65,
   "id": "60ecb218",
   "metadata": {},
   "outputs": [
    {
     "data": {
      "text/plain": [
       "<sklearn.metrics._plot.confusion_matrix.ConfusionMatrixDisplay at 0x7fa8421cf310>"
      ]
     },
     "execution_count": 65,
     "metadata": {},
     "output_type": "execute_result"
    },
    {
     "data": {
      "image/png": "[encoded data removed]",
      "text/plain": [
       "<Figure size 432x288 with 2 Axes>"
      ]
     },
     "metadata": {
      "needs_background": "light"
     },
     "output_type": "display_data"
    }
   ],
   "source": [
    "ConfusionMatrixDisplay(cm).plot()"
   ]
  },
  {
   "cell_type": "code",
   "execution_count": 58,
   "id": "15165b48",
   "metadata": {},
   "outputs": [
    {
     "data": {
      "text/plain": [
       "45"
      ]
     },
     "execution_count": 58,
     "metadata": {},
     "output_type": "execute_result"
    }
   ],
   "source": [
    "13 + 4 + 11 + 1 + 7 + 9 "
   ]
  }
 ],
 "metadata": {
  "kernelspec": {
   "display_name": "Python 3 (ipykernel)",
   "language": "python",
   "name": "python3"
  },
  "language_info": {
   "codemirror_mode": {
    "name": "ipython",
    "version": 3
   },
   "file_extension": ".py",
   "mimetype": "text/x-python",
   "name": "python",
   "nbconvert_exporter": "python",
   "pygments_lexer": "ipython3",
   "version": "3.9.12"
  }
 },
 "nbformat": 4,
 "nbformat_minor": 5
}
