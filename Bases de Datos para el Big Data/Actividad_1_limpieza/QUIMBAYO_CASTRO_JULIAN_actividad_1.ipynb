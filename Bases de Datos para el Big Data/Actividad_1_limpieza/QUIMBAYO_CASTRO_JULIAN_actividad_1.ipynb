{
 "cells": [
  {
   "cell_type": "markdown",
   "metadata": {},
   "source": [
    "### Bases de Datos para el Big Data\n",
    "#### Desarrollado por: **Ing. Julian Quimbayo**\n",
    "#### Limpieza de Datos - Actividad 1"
   ]
  },
  {
   "cell_type": "markdown",
   "metadata": {},
   "source": [
    "#### **Paso 1: Importación de Librerías**"
   ]
  },
  {
   "cell_type": "code",
   "execution_count": 114,
   "metadata": {},
   "outputs": [],
   "source": [
    "##Cargue de las librerías\n",
    "import pandas as pd\n",
    "import numpy as np\n",
    "##Librerías para graficar\n",
    "import matplotlib.pyplot as plt\n",
    "import seaborn as sns"
   ]
  },
  {
   "cell_type": "markdown",
   "metadata": {},
   "source": [
    "#### **Paso 2: Funciones de Limpieza**"
   ]
  },
  {
   "cell_type": "code",
   "execution_count": 169,
   "metadata": {},
   "outputs": [],
   "source": [
    "# Función para importar data .xlsx o .csv\n",
    "def importDatos(ruta, archivo, ext, sep):\n",
    "    if ext == '.csv':\n",
    "        data = pd.read_csv(ruta+archivo+ext, sep=sep)\n",
    "        return data\n",
    "    elif ext == '.xlsx':\n",
    "        data = pd.read_excel(ruta+archivo+ext)\n",
    "        return data\n",
    "    else:\n",
    "        print('Extensión diferente')\n",
    "\n",
    "# Función informe sobre los datos NAN\n",
    "def datos_NA(df):\n",
    "    if isinstance(df, pd.DataFrame):\n",
    "        total_na = df.isna().sum().sum()\n",
    "        print(\"Dimensiones : %d filas, %d columnas\" %\n",
    "              (df.shape[0], df.shape[1]))\n",
    "        print(\"Total Valores NA : %d \" % (total_na))\n",
    "        print(\"%38s %10s     %10s %10s\" %\n",
    "              (\"Nombre Columna\", \"Tipo de Dato\", \"#Distintos\", \"Valores NA\"))\n",
    "        col_name = df.columns\n",
    "        dtyp = df.dtypes\n",
    "        uniq = df.nunique()\n",
    "        na_val = df.isna().sum()\n",
    "        for i in range(len(df.columns)):\n",
    "            print(\"%38s %10s   %10s %10s\" %\n",
    "                  (col_name[i], dtyp[i], uniq[i], na_val[i]))\n",
    "\n",
    "    else:\n",
    "        print(\"Se esperaba dataframe %15s\" % (type(df)))\n",
    "\n",
    "## Frecuencias absolutas para cualquier columna\n",
    "def revCategoricos(df, nomCol):\n",
    "    rev = df[nomCol].value_counts()\n",
    "    return rev\n",
    "\n",
    "## Frecuencias relativas para cualquier columna\n",
    "def revCategoricosFreq(df, nomCol, dec):\n",
    "    return round(df[nomCol].value_counts()/np.float64(len(df)),dec)*100\n",
    "\n",
    "## Revisión de datos duplicados en cuanto a filas\n",
    "def duplicados(df):\n",
    "    duplicados =df.duplicated()\n",
    "    return duplicados.value_counts()\n",
    "\n",
    "##Eliminar filas con datos inconsistentes menores al 5% del total de la data\n",
    "def elimFilas(df,param):\n",
    "    return df.loc[(df != param).all(axis=1), :]\n",
    "\n",
    "# Función para datos categóricos modificaciones\n",
    "def imputacionCat(df, nomCol, busqueda, reempl):\n",
    "    df[nomCol] = np.where(df[nomCol] == busqueda, reempl, df[nomCol])\n",
    "    return df[nomCol]\n",
    "#Función para imputación de datos NA\n",
    "def imputacionCatNa(df, nomCol):\n",
    "    df[nomCol] = df[nomCol].fillna(df[nomCol].mode()[0])\n",
    "    return df[nomCol]"
   ]
  },
  {
   "cell_type": "markdown",
   "metadata": {},
   "source": [
    "#### **Paso 3: Entendimiento de la data**"
   ]
  },
  {
   "cell_type": "code",
   "execution_count": 179,
   "metadata": {},
   "outputs": [
    {
     "data": {
      "text/plain": [
       "(10051, 12)"
      ]
     },
     "execution_count": 179,
     "metadata": {},
     "output_type": "execute_result"
    }
   ],
   "source": [
    "##Importando data\n",
    "data = importDatos('./','data_act_01_Nueva','.csv',';')\n",
    "data.head()\n",
    "\n",
    "data.shape"
   ]
  },
  {
   "cell_type": "code",
   "execution_count": 117,
   "metadata": {},
   "outputs": [
    {
     "name": "stdout",
     "output_type": "stream",
     "text": [
      "Dimensiones : 10051 filas, 12 columnas\n",
      "Total Valores NA : 10375 \n",
      "                        Nombre Columna Tipo de Dato     #Distintos Valores NA\n",
      "                               CrimeId      int64        10047          0\n",
      "                 OriginalCrimeTypeName     object          575          0\n",
      "                           OffenseDate     object            9          0\n",
      "                              CallTime     object         1416          0\n",
      "                          CallDateTime     object         5116          0\n",
      "                           Disposition     object           19          0\n",
      "                               Address     object         5387          0\n",
      "                                  City     object            8        321\n",
      "                                 State     object            1          3\n",
      "                              AgencyId     object            2          0\n",
      "                                 Range    float64            0      10051\n",
      "                           AddressType     object            6          0\n"
     ]
    }
   ],
   "source": [
    "## Revisión de la data para identificar datos NAN\n",
    "datos_NA(data)"
   ]
  },
  {
   "cell_type": "code",
   "execution_count": 118,
   "metadata": {},
   "outputs": [
    {
     "data": {
      "text/plain": [
       "False    10051\n",
       "dtype: int64"
      ]
     },
     "execution_count": 118,
     "metadata": {},
     "output_type": "execute_result"
    }
   ],
   "source": [
    "## Revisión de filas duplicadas - No existen datos duplicados\n",
    "duplicados(data)"
   ]
  },
  {
   "cell_type": "markdown",
   "metadata": {},
   "source": [
    "#### **Paso 4: Casos puntuales por columna**"
   ]
  },
  {
   "cell_type": "code",
   "execution_count": 119,
   "metadata": {},
   "outputs": [
    {
     "data": {
      "text/plain": [
       "Audible Alarm           271\n",
       "Auto Boost / Strip      166\n",
       "Assault / Battery       160\n",
       "Aggressive               44\n",
       "Arrest Made              22\n",
       "Aided Case               19\n",
       "Attempt                  18\n",
       "At Risk                   3\n",
       "Ambulance                 2\n",
       "Agg Assault / Adw Dv      1\n",
       "Name: OriginalCrimeTypeName, dtype: int64"
      ]
     },
     "execution_count": 119,
     "metadata": {},
     "output_type": "execute_result"
    }
   ],
   "source": [
    "##Columna 1 - CrimeId\n",
    "revCategoricos(data, 'CrimeId')\n",
    "##Columna reportada de manera correcta, debido a que es un Id sobre crimenes en forma consecutiva.\n",
    "\n",
    "##Columna 2 - OriginalCrimeTypeName\n",
    "revCategoricos(data, 'OriginalCrimeTypeName')\n",
    "##Presenta datos inconsistentes en la columna debido a que esta columna representa el tipo de crimen original donde\n",
    "##se evidencian numeros que no corresponden\n",
    "\n",
    "##se mantiene el principio de que si las frecuencias son menores al 5% no se tendrán en cuenta para futuros análisis.\n",
    "##de igual forma acorde al modelo de negocio no son lo adecuado.\n",
    "\n",
    "revCategoricosFreq(data, 'OriginalCrimeTypeName',3)\n",
    "\n",
    "##Se crean filtros por cada letra del alfabeto revisando cada categoria de crimen = evidencia att se cambia por attempt, eliminar fila awol\n",
    "\n",
    "dataA = data[data['OriginalCrimeTypeName'].str.startswith(\"A\")]\n",
    "\n",
    "revCategoricos(dataA, 'OriginalCrimeTypeName')\n",
    "\n",
    "data['OriginalCrimeTypeName']= imputacionCat(data, 'OriginalCrimeTypeName', 'Assault / Battery Dv','Assault / Battery')\n",
    "data['OriginalCrimeTypeName']= imputacionCat(data, 'OriginalCrimeTypeName', 'Agg Assault / Adw','Assault / Battery')\n",
    "data['OriginalCrimeTypeName']= imputacionCat(data, 'OriginalCrimeTypeName', 'Att','Attempt')\n",
    "data['OriginalCrimeTypeName']= imputacionCat(data, 'OriginalCrimeTypeName', 'Attempt Report','Attempt')\n",
    "data['OriginalCrimeTypeName']= imputacionCat(data, 'OriginalCrimeTypeName', 'Att Only','Attempt')\n",
    "data['OriginalCrimeTypeName']= imputacionCat(data, 'OriginalCrimeTypeName', 'Att Jo','Attempt')\n",
    "data['OriginalCrimeTypeName']= imputacionCat(data, 'OriginalCrimeTypeName', 'Att Susp','Attempt')\n",
    "data['OriginalCrimeTypeName']= imputacionCat(data, 'OriginalCrimeTypeName', 'Att/240 Jo','Attempt')\n",
    "data['OriginalCrimeTypeName']= imputacionCat(data, 'OriginalCrimeTypeName', 'Attemp','Attempt')\n",
    "data['OriginalCrimeTypeName']= imputacionCat(data, 'OriginalCrimeTypeName', 'At The Atm','Attempt')\n",
    "data['OriginalCrimeTypeName']= imputacionCat(data, 'OriginalCrimeTypeName', 'Agressive','Aggressive')\n",
    "data['OriginalCrimeTypeName']= imputacionCat(data, 'OriginalCrimeTypeName', 'Aggr Soliciting','Aggressive')\n",
    "data['OriginalCrimeTypeName']= imputacionCat(data, 'OriginalCrimeTypeName', 'Aggressive 601','Aggressive')\n",
    "data['OriginalCrimeTypeName']= imputacionCat(data, 'OriginalCrimeTypeName', 'Alarm','Audible Alarm')\n",
    "\n",
    "\n",
    "dataA = data[data['OriginalCrimeTypeName'].str.startswith(\"A\")]\n",
    "\n",
    "revCategoricos(dataA, 'OriginalCrimeTypeName')\n",
    "\n",
    "##Eliminacion de filas menores del 5% de la data completa\n",
    "data = data.drop(data[(data.OriginalCrimeTypeName=='Awol') | (data.OriginalCrimeTypeName == 'Adv') | \n",
    "                                                (data.OriginalCrimeTypeName == 'Adv To 0123')| (data.OriginalCrimeTypeName == 'A')\n",
    "                                                | (data.OriginalCrimeTypeName == 'Atc')| (data.OriginalCrimeTypeName == 'Ams')\n",
    "                                                | (data.OriginalCrimeTypeName == 'Areport')| (data.OriginalCrimeTypeName == 'Amplified')\n",
    "                                                | (data.OriginalCrimeTypeName == 'Adv To Co A')].index)\n",
    "\n",
    "\n",
    "dataA = data[data['OriginalCrimeTypeName'].str.startswith(\"A\")]\n",
    "\n",
    "revCategoricos(dataA, 'OriginalCrimeTypeName')"
   ]
  },
  {
   "cell_type": "code",
   "execution_count": 120,
   "metadata": {},
   "outputs": [
    {
     "data": {
      "text/plain": [
       "Burglary               80\n",
       "Busn                    3\n",
       "Barking                 2\n",
       "Band                    2\n",
       "Boombox                 2\n",
       "Bl                      1\n",
       "Bicylist                1\n",
       "Brewing/pay Dispute     1\n",
       "Broken Window           1\n",
       "Busy                    1\n",
       "Busn/voip               1\n",
       "Bottles                 1\n",
       "Bart                    1\n",
       "Bat                     1\n",
       "Bomb Threat             1\n",
       "Bar Check               1\n",
       "Brewing                 1\n",
       "Name: OriginalCrimeTypeName, dtype: int64"
      ]
     },
     "execution_count": 120,
     "metadata": {},
     "output_type": "execute_result"
    }
   ],
   "source": [
    "dataB = data[data['OriginalCrimeTypeName'].str.startswith(\"B\")]\n",
    "\n",
    "revCategoricos(dataB, 'OriginalCrimeTypeName')\n",
    "\n",
    "##Eliminacion de palabras como busn, band, Bl, busn/voip, Bart, Bat"
   ]
  },
  {
   "cell_type": "code",
   "execution_count": 121,
   "metadata": {},
   "outputs": [
    {
     "data": {
      "text/plain": [
       "Burglary               80\n",
       "Barking                 2\n",
       "Bar Check               1\n",
       "Bomb Threat             1\n",
       "Bottles                 1\n",
       "Busy                    1\n",
       "Broken Window           1\n",
       "Brewing/pay Dispute     1\n",
       "Bicylist                1\n",
       "Brewing                 1\n",
       "Name: OriginalCrimeTypeName, dtype: int64"
      ]
     },
     "execution_count": 121,
     "metadata": {},
     "output_type": "execute_result"
    }
   ],
   "source": [
    "data = data.drop(data[(data.OriginalCrimeTypeName=='Busn') | (data.OriginalCrimeTypeName == 'Band') | \n",
    "                                                (data.OriginalCrimeTypeName == 'Boombox')| (data.OriginalCrimeTypeName == 'Bl')\n",
    "                                                | (data.OriginalCrimeTypeName == 'Busn/voip')| (data.OriginalCrimeTypeName == 'Bart')\n",
    "                                                | (data.OriginalCrimeTypeName == 'Bat')].index)\n",
    "\n",
    "dataB = data[data['OriginalCrimeTypeName'].str.startswith(\"B\")]\n",
    "\n",
    "revCategoricos(dataB, 'OriginalCrimeTypeName')"
   ]
  },
  {
   "cell_type": "code",
   "execution_count": 128,
   "metadata": {},
   "outputs": [],
   "source": [
    "dataC = data[data['OriginalCrimeTypeName'].str.startswith(\"C\")]\n",
    "\n",
    "revCategoricos(dataC, 'OriginalCrimeTypeName')\n",
    "\n",
    "##Correción de palabras como cassing, caser, casers, camp\n",
    "\n",
    "data['OriginalCrimeTypeName']= imputacionCat(data, 'OriginalCrimeTypeName', 'Complaint Unkn','Completely Unknown')\n",
    "data['OriginalCrimeTypeName']= imputacionCat(data, 'OriginalCrimeTypeName', 'Caser','Casing')\n",
    "data['OriginalCrimeTypeName']= imputacionCat(data, 'OriginalCrimeTypeName', 'Casers','Casing')\n",
    "data['OriginalCrimeTypeName']= imputacionCat(data, 'OriginalCrimeTypeName', 'Cassing','Casing')\n",
    "data['OriginalCrimeTypeName']= imputacionCat(data, 'OriginalCrimeTypeName', 'Casing/852','Casing')\n",
    "data['OriginalCrimeTypeName']= imputacionCat(data, 'OriginalCrimeTypeName', 'Casing/917','Casing')\n",
    "data['OriginalCrimeTypeName']= imputacionCat(data, 'OriginalCrimeTypeName', 'Child','Children')\n",
    "data['OriginalCrimeTypeName']= imputacionCat(data, 'OriginalCrimeTypeName', 'Camper','Campers')\n",
    "data['OriginalCrimeTypeName']= imputacionCat(data, 'OriginalCrimeTypeName', 'Camping','Campers')\n",
    "data['OriginalCrimeTypeName']= imputacionCat(data, 'OriginalCrimeTypeName', 'Campers W/bikes','Campers')\n",
    "data['OriginalCrimeTypeName']= imputacionCat(data, 'OriginalCrimeTypeName', 'Camp','Campers')\n",
    "\n",
    "data = data.drop(data[(data.OriginalCrimeTypeName=='Cz') | (data.OriginalCrimeTypeName == 'Cw') | \n",
    "                                                (data.OriginalCrimeTypeName == 'Check For Ped')| (data.OriginalCrimeTypeName == 'Cane')\n",
    "                                                | (data.OriginalCrimeTypeName == 'Chp 1030 Veh')| (data.OriginalCrimeTypeName == 'Chp')\n",
    "                                                | (data.OriginalCrimeTypeName == 'City Veh')| (data.OriginalCrimeTypeName == 'Curb')].index)\n",
    "\n"
   ]
  },
  {
   "cell_type": "code",
   "execution_count": 129,
   "metadata": {},
   "outputs": [
    {
     "data": {
      "text/plain": [
       "Completely Unknown    98\n",
       "Casing                39\n",
       "Campers               22\n",
       "Citizen Standby       22\n",
       "Citizen Arrest        11\n",
       "Children               7\n",
       "Custody                4\n",
       "Construction           3\n",
       "Crosswalk              2\n",
       "Chop Shop              2\n",
       "Crack                  1\n",
       "Car Campers            1\n",
       "Name: OriginalCrimeTypeName, dtype: int64"
      ]
     },
     "execution_count": 129,
     "metadata": {},
     "output_type": "execute_result"
    }
   ],
   "source": [
    "dataC = data[data['OriginalCrimeTypeName'].str.startswith(\"C\")]\n",
    "\n",
    "revCategoricos(dataC, 'OriginalCrimeTypeName')"
   ]
  },
  {
   "cell_type": "code",
   "execution_count": 134,
   "metadata": {},
   "outputs": [
    {
     "data": {
      "text/plain": [
       "Drugs                  61\n",
       "Drop                   27\n",
       "Drunk Driver           10\n",
       "Demo / Protest          9\n",
       "Drinking                6\n",
       "Dirtbikes               6\n",
       "Death / Coroner         3\n",
       "Dogs Barking            2\n",
       "Drugs Needles           1\n",
       "Driveway                1\n",
       "Drugdealer              1\n",
       "Dismember Body Part     1\n",
       "Drug Use                1\n",
       "Dog Bite                1\n",
       "Death                   1\n",
       "Name: OriginalCrimeTypeName, dtype: int64"
      ]
     },
     "execution_count": 134,
     "metadata": {},
     "output_type": "execute_result"
    }
   ],
   "source": [
    "dataD = data[data['OriginalCrimeTypeName'].str.startswith(\"D\")]\n",
    "\n",
    "revCategoricos(dataD, 'OriginalCrimeTypeName')\n",
    "\n",
    "data['OriginalCrimeTypeName']= imputacionCat(data, 'OriginalCrimeTypeName', 'Drinkers','Drinking')\n",
    "data['OriginalCrimeTypeName']= imputacionCat(data, 'OriginalCrimeTypeName', 'Drops//busn','Drop')\n",
    "data['OriginalCrimeTypeName']= imputacionCat(data, 'OriginalCrimeTypeName', 'Drugs/915','Drugs')\n",
    "data['OriginalCrimeTypeName']= imputacionCat(data, 'OriginalCrimeTypeName', 'Dirtbikes/586','Dirtbikes')\n",
    "data['OriginalCrimeTypeName']= imputacionCat(data, 'OriginalCrimeTypeName', 'Drugs/dealing','Drugs')\n",
    "data['OriginalCrimeTypeName']= imputacionCat(data, 'OriginalCrimeTypeName', 'Dog Barking','Dogs Barking')\n",
    "\n",
    "data = data.drop(data[(data.OriginalCrimeTypeName=='Dw') | (data.OriginalCrimeTypeName == 'Dw/rz') | \n",
    "                                                (data.OriginalCrimeTypeName == 'Dp')| (data.OriginalCrimeTypeName == 'Dog')\n",
    "                                                | (data.OriginalCrimeTypeName == 'Dw Tow')| (data.OriginalCrimeTypeName == 'Doorway/917')\n",
    "                                                | (data.OriginalCrimeTypeName == 'Drummer')| (data.OriginalCrimeTypeName == 'Dropped Call')| \n",
    "                                                (data.OriginalCrimeTypeName == 'Drp')| \n",
    "                                                (data.OriginalCrimeTypeName == 'Dancer')].index)\n",
    "\n",
    "dataD = data[data['OriginalCrimeTypeName'].str.startswith(\"D\")]\n",
    "\n",
    "revCategoricos(dataD, 'OriginalCrimeTypeName')\n"
   ]
  },
  {
   "cell_type": "code",
   "execution_count": 136,
   "metadata": {},
   "outputs": [
    {
     "data": {
      "text/plain": [
       "Encampment         68\n",
       "Escalating          1\n",
       "Elevator            1\n",
       "Explosive Found     1\n",
       "Explosion           1\n",
       "Name: OriginalCrimeTypeName, dtype: int64"
      ]
     },
     "execution_count": 136,
     "metadata": {},
     "output_type": "execute_result"
    }
   ],
   "source": [
    "dataE = data[data['OriginalCrimeTypeName'].str.startswith(\"E\")]\n",
    "\n",
    "revCategoricos(dataE, 'OriginalCrimeTypeName')\n",
    "\n",
    "data['OriginalCrimeTypeName']= imputacionCat(data, 'OriginalCrimeTypeName', 'Encampments','Encampment')\n",
    "data['OriginalCrimeTypeName']= imputacionCat(data, 'OriginalCrimeTypeName', 'Encampent','Encampment')\n",
    "\n",
    "data = data.drop(data[(data.OriginalCrimeTypeName=='Elderly X')].index)\n",
    "\n",
    "dataE = data[data['OriginalCrimeTypeName'].str.startswith(\"E\")]\n",
    "\n",
    "revCategoricos(dataE, 'OriginalCrimeTypeName')\n"
   ]
  },
  {
   "cell_type": "code",
   "execution_count": 139,
   "metadata": {},
   "outputs": [
    {
     "data": {
      "text/plain": [
       "Fight No Weapon    286\n",
       "Fraud               54\n",
       "Fire                 3\n",
       "Fare                 1\n",
       "Found Drugs          1\n",
       "Fireworks            1\n",
       "Name: OriginalCrimeTypeName, dtype: int64"
      ]
     },
     "execution_count": 139,
     "metadata": {},
     "output_type": "execute_result"
    }
   ],
   "source": [
    "dataF = data[data['OriginalCrimeTypeName'].str.startswith(\"F\")]\n",
    "\n",
    "revCategoricos(dataF, 'OriginalCrimeTypeName')\n",
    "\n",
    "data['OriginalCrimeTypeName']= imputacionCat(data, 'OriginalCrimeTypeName', 'Fight No Weapon Dv','Fight No Weapon')\n",
    "\n",
    "data = data.drop(data[(data.OriginalCrimeTypeName=='Family')|(data.OriginalCrimeTypeName == 'Female')\n",
    "| (data.OriginalCrimeTypeName == 'Fi**expedite**')| (data.OriginalCrimeTypeName == 'Fp')| (data.OriginalCrimeTypeName == 'Follow Up')].index)\n",
    "\n",
    "dataF = data[data['OriginalCrimeTypeName'].str.startswith(\"F\")]\n",
    "\n",
    "revCategoricos(dataF, 'OriginalCrimeTypeName')\n"
   ]
  },
  {
   "cell_type": "code",
   "execution_count": 143,
   "metadata": {},
   "outputs": [
    {
     "data": {
      "text/plain": [
       "Grand Theft                5\n",
       "Graffiti Vandalism         5\n",
       "Gamblers                   2\n",
       "Glass Bottles              1\n",
       "Get Inside The Building    1\n",
       "Name: OriginalCrimeTypeName, dtype: int64"
      ]
     },
     "execution_count": 143,
     "metadata": {},
     "output_type": "execute_result"
    }
   ],
   "source": [
    "dataG = data[data['OriginalCrimeTypeName'].str.startswith(\"G\")]\n",
    "\n",
    "revCategoricos(dataG, 'OriginalCrimeTypeName')\n",
    "\n",
    "data['OriginalCrimeTypeName']= imputacionCat(data, 'OriginalCrimeTypeName', 'Gambling','Gamblers')\n",
    "data['OriginalCrimeTypeName']= imputacionCat(data, 'OriginalCrimeTypeName', 'Get Inside The Bldg','Get Inside The Building')\n",
    "\n",
    "data = data.drop(data[(data.OriginalCrimeTypeName=='Guitar')|(data.OriginalCrimeTypeName == 'Gz')].index)\n",
    "\n",
    "dataG = data[data['OriginalCrimeTypeName'].str.startswith(\"G\")]\n",
    "\n",
    "revCategoricos(dataG, 'OriginalCrimeTypeName')"
   ]
  },
  {
   "cell_type": "code",
   "execution_count": 145,
   "metadata": {},
   "outputs": [
    {
     "data": {
      "text/plain": [
       "Homeless Complaint    585\n",
       "Hold Up                 2\n",
       "Hammer                  1\n",
       "Heated                  1\n",
       "Home Invasion           1\n",
       "House                   1\n",
       "Name: OriginalCrimeTypeName, dtype: int64"
      ]
     },
     "execution_count": 145,
     "metadata": {},
     "output_type": "execute_result"
    }
   ],
   "source": [
    "dataH = data[data['OriginalCrimeTypeName'].str.startswith(\"H\")]\n",
    "\n",
    "revCategoricos(dataH, 'OriginalCrimeTypeName')\n",
    "\n",
    "data['OriginalCrimeTypeName']= imputacionCat(data, 'OriginalCrimeTypeName', 'H&r Veh Accident','Vehicle Accident')\n",
    "data['OriginalCrimeTypeName']= imputacionCat(data, 'OriginalCrimeTypeName', 'H&r Injury Accident','Vehicle Accident')\n",
    "data['OriginalCrimeTypeName']= imputacionCat(data, 'OriginalCrimeTypeName', 'Hold-Up','Hold Up')\n",
    "\n",
    "data = data.drop(data[(data.OriginalCrimeTypeName=='Hu')|(data.OriginalCrimeTypeName == 'Hot')\n",
    "|(data.OriginalCrimeTypeName == 'H&r')|(data.OriginalCrimeTypeName == 'H/r')|(data.OriginalCrimeTypeName == 'Haz')].index)\n",
    "\n",
    "dataH = data[data['OriginalCrimeTypeName'].str.startswith(\"H\")]\n",
    "\n",
    "revCategoricos(dataH, 'OriginalCrimeTypeName')"
   ]
  },
  {
   "cell_type": "code",
   "execution_count": 147,
   "metadata": {},
   "outputs": [
    {
     "data": {
      "text/plain": [
       "Intoxicated Person    30\n",
       "Indecent Exposure     30\n",
       "Illegal Vendors        3\n",
       "Illegal Gambling       1\n",
       "Name: OriginalCrimeTypeName, dtype: int64"
      ]
     },
     "execution_count": 147,
     "metadata": {},
     "output_type": "execute_result"
    }
   ],
   "source": [
    "dataI = data[data['OriginalCrimeTypeName'].str.startswith(\"I\")]\n",
    "\n",
    "revCategoricos(dataI, 'OriginalCrimeTypeName')\n",
    "\n",
    "data['OriginalCrimeTypeName']= imputacionCat(data, 'OriginalCrimeTypeName', 'Injury Veh Accident','Vehicle Accident')\n",
    "data['OriginalCrimeTypeName']= imputacionCat(data, 'OriginalCrimeTypeName', 'Illegal Vendor','Illegal Vendors')\n",
    "\n",
    "data = data.drop(data[(data.OriginalCrimeTypeName=='Ip')|(data.OriginalCrimeTypeName == 'I/p')\n",
    "|(data.OriginalCrimeTypeName == 'Iph')|(data.OriginalCrimeTypeName == 'In Svc/ On Foot')|(data.OriginalCrimeTypeName == 'Ifo')].index)\n",
    "\n",
    "dataI = data[data['OriginalCrimeTypeName'].str.startswith(\"I\")]\n",
    "\n",
    "revCategoricos(dataI, 'OriginalCrimeTypeName')"
   ]
  },
  {
   "cell_type": "code",
   "execution_count": 149,
   "metadata": {},
   "outputs": [
    {
     "data": {
      "text/plain": [
       "Juvenile Disturbance    15\n",
       "Juve Beyond Control     11\n",
       "Name: OriginalCrimeTypeName, dtype: int64"
      ]
     },
     "execution_count": 149,
     "metadata": {},
     "output_type": "execute_result"
    }
   ],
   "source": [
    "dataJ = data[data['OriginalCrimeTypeName'].str.startswith(\"J\")]\n",
    "\n",
    "revCategoricos(dataJ, 'OriginalCrimeTypeName')\n",
    "\n",
    "data = data.drop(data[(data.OriginalCrimeTypeName=='Jo')|(data.OriginalCrimeTypeName == 'Jjo')\n",
    "|(data.OriginalCrimeTypeName == 'J/o')|(data.OriginalCrimeTypeName == 'Jo/bolo')|(data.OriginalCrimeTypeName == \"Juv's\")\n",
    "|(data.OriginalCrimeTypeName == 'Jump')|(data.OriginalCrimeTypeName == \"Jumper\")].index)\n",
    "\n",
    "dataJ = data[data['OriginalCrimeTypeName'].str.startswith(\"J\")]\n",
    "\n",
    "revCategoricos(dataJ, 'OriginalCrimeTypeName')"
   ]
  },
  {
   "cell_type": "code",
   "execution_count": 150,
   "metadata": {},
   "outputs": [
    {
     "data": {
      "text/plain": [
       "Keys          1\n",
       "Kidnapping    1\n",
       "Name: OriginalCrimeTypeName, dtype: int64"
      ]
     },
     "execution_count": 150,
     "metadata": {},
     "output_type": "execute_result"
    }
   ],
   "source": [
    "dataK = data[data['OriginalCrimeTypeName'].str.startswith(\"K\")]\n",
    "\n",
    "revCategoricos(dataK, 'OriginalCrimeTypeName')"
   ]
  },
  {
   "cell_type": "code",
   "execution_count": 152,
   "metadata": {},
   "outputs": [
    {
     "data": {
      "text/plain": [
       "Loud Party      3\n",
       "Loud Music      2\n",
       "Live Band       2\n",
       "Loitering       1\n",
       "Living          1\n",
       "Loading Dock    1\n",
       "Loud Bass       1\n",
       "Loud Talking    1\n",
       "Name: OriginalCrimeTypeName, dtype: int64"
      ]
     },
     "execution_count": 152,
     "metadata": {},
     "output_type": "execute_result"
    }
   ],
   "source": [
    "dataL = data[data['OriginalCrimeTypeName'].str.startswith(\"L\")]\n",
    "\n",
    "revCategoricos(dataL, 'OriginalCrimeTypeName')\n",
    "\n",
    "data = data.drop(data[(data.OriginalCrimeTypeName=='Lltd')|(data.OriginalCrimeTypeName == 'Lp')\n",
    "|(data.OriginalCrimeTypeName == 'Lltn')|(data.OriginalCrimeTypeName == 'Ll/td')|(data.OriginalCrimeTypeName == \"Ll/ll\")\n",
    "|(data.OriginalCrimeTypeName == 'Ld')|(data.OriginalCrimeTypeName == \"Loud Subj's\")|(data.OriginalCrimeTypeName == \"Ll/ Tenant\")].index)\n",
    "\n",
    "dataL = data[data['OriginalCrimeTypeName'].str.startswith(\"L\")]\n",
    "\n",
    "revCategoricos(dataL, 'OriginalCrimeTypeName')"
   ]
  },
  {
   "cell_type": "code",
   "execution_count": 155,
   "metadata": {},
   "outputs": [
    {
     "data": {
      "text/plain": [
       "Muni Inspection       294\n",
       "Meet Citizen          160\n",
       "Mentally Disturbed    124\n",
       "Missing Adult          34\n",
       "Missing Juvenile       16\n",
       "Meet Officer           13\n",
       "Making A Mess           1\n",
       "Name: OriginalCrimeTypeName, dtype: int64"
      ]
     },
     "execution_count": 155,
     "metadata": {},
     "output_type": "execute_result"
    }
   ],
   "source": [
    "dataM = data[data['OriginalCrimeTypeName'].str.startswith(\"M\")]\n",
    "\n",
    "revCategoricos(dataM, 'OriginalCrimeTypeName')\n",
    "\n",
    "data = data.drop(data[(data.OriginalCrimeTypeName=='Male')|(data.OriginalCrimeTypeName == 'Music')\n",
    "|(data.OriginalCrimeTypeName == 'Mc')|(data.OriginalCrimeTypeName == 'Mace')|(data.OriginalCrimeTypeName == \"Muni Alarm\")\n",
    "|(data.OriginalCrimeTypeName == \"Mc's\")|(data.OriginalCrimeTypeName == \"Muni\")|(data.OriginalCrimeTypeName == \"Music/909\")\n",
    "|(data.OriginalCrimeTypeName == \"Male/poss Hazard\")|(data.OriginalCrimeTypeName == \"Mal\")|(data.OriginalCrimeTypeName == \"Maced\")].index)\n",
    "\n",
    "\n",
    "data['OriginalCrimeTypeName']= imputacionCat(data, 'OriginalCrimeTypeName', 'Meet W/citizen','Meet Citizen')\n",
    "data['OriginalCrimeTypeName']= imputacionCat(data, 'OriginalCrimeTypeName', 'Meet W/officer','Meet Officer')\n",
    "\n",
    "dataM = data[data['OriginalCrimeTypeName'].str.startswith(\"M\")]\n",
    "\n",
    "revCategoricos(dataM, 'OriginalCrimeTypeName')"
   ]
  },
  {
   "cell_type": "code",
   "execution_count": 157,
   "metadata": {},
   "outputs": [
    {
     "data": {
      "text/plain": [
       "Noise Nuisance    174\n",
       "Neighbors           2\n",
       "Name: OriginalCrimeTypeName, dtype: int64"
      ]
     },
     "execution_count": 157,
     "metadata": {},
     "output_type": "execute_result"
    }
   ],
   "source": [
    "dataN = data[data['OriginalCrimeTypeName'].str.startswith(\"N\")]\n",
    "\n",
    "revCategoricos(dataN, 'OriginalCrimeTypeName')\n",
    "\n",
    "data = data.drop(data[(data.OriginalCrimeTypeName=='Npat')|(data.OriginalCrimeTypeName == 'Nabor')\n",
    "|(data.OriginalCrimeTypeName == 'Nabors')|(data.OriginalCrimeTypeName == 'Npa')|(data.OriginalCrimeTypeName == \"Naked\")\n",
    "|(data.OriginalCrimeTypeName == \"Nabo\")].index)\n",
    "\n",
    "dataN = data[data['OriginalCrimeTypeName'].str.startswith(\"N\")]\n",
    "\n",
    "revCategoricos(dataN, 'OriginalCrimeTypeName')"
   ]
  },
  {
   "cell_type": "code",
   "execution_count": 159,
   "metadata": {},
   "outputs": [
    {
     "data": {
      "text/plain": [
       "Opportunist    3\n",
       "Name: OriginalCrimeTypeName, dtype: int64"
      ]
     },
     "execution_count": 159,
     "metadata": {},
     "output_type": "execute_result"
    }
   ],
   "source": [
    "dataO = data[data['OriginalCrimeTypeName'].str.startswith(\"O\")]\n",
    "\n",
    "revCategoricos(dataO, 'OriginalCrimeTypeName')\n",
    "\n",
    "data = data.drop(data[(data.OriginalCrimeTypeName=='Opp')|(data.OriginalCrimeTypeName == 'Open')\n",
    "|(data.OriginalCrimeTypeName == 'Open Line')|(data.OriginalCrimeTypeName == 'Openline')].index)\n",
    "\n",
    "dataO = data[data['OriginalCrimeTypeName'].str.startswith(\"O\")]\n",
    "\n",
    "revCategoricos(dataO, 'OriginalCrimeTypeName')"
   ]
  },
  {
   "cell_type": "code",
   "execution_count": 170,
   "metadata": {},
   "outputs": [
    {
     "name": "stdout",
     "output_type": "stream",
     "text": [
      "Dimensiones : 8416 filas, 11 columnas\n",
      "Total Valores NA : 321 \n",
      "                        Nombre Columna Tipo de Dato     #Distintos Valores NA\n",
      "                               CrimeId      int64         8412          0\n",
      "                 OriginalCrimeTypeName     object          291          0\n",
      "                           OffenseDate     object            9          0\n",
      "                              CallTime     object         1406          0\n",
      "                          CallDateTime     object         4727          0\n",
      "                           Disposition     object           19          0\n",
      "                               Address     object         4601          0\n",
      "                                  City     object            8        321\n",
      "                                 State     object            1          0\n",
      "                              AgencyId      int64            1          0\n",
      "                           AddressType     object            6          0\n"
     ]
    }
   ],
   "source": [
    "##Se extrae el dataframe para terminar las demas inconsistencias\n",
    "data.to_csv('dataLimpia.csv', index=False)\n",
    "## Se extrae a .csv, terminando de limpiar las categorias y quitando filas vacías\n",
    "##se vuelve a cargar para verificar paso final\n",
    "\n",
    "dataFinal = importDatos('./','DataLimpiaDos','.csv',';')\n",
    "datos_NA(dataFinal)\n",
    "\n",
    "##Correcion de datos san francisco\n",
    "revCategoricos(dataFinal, 'City')\n",
    "\n",
    "\n",
    "dataFinal['City']= imputacionCat(dataFinal, 'City', 'SAN FRANCISCO','San Francisco')\n",
    "dataFinal['City']= imputacionCat(dataFinal, 'City', 'Treasure Isla','Treasure Island')\n",
    "\n",
    "dataFinal = dataFinal.drop(dataFinal[(dataFinal.City=='Daly City')|(dataFinal.City == 'Yerba Buena')\n",
    "|(dataFinal.City == 'Presidio')|(dataFinal.City == ' S')|(dataFinal.City == 'Brisbane')].index)\n",
    "\n",
    "revCategoricos(dataFinal, 'City')\n",
    "\n",
    "dataFinal['City'] = imputacionCatNa(dataFinal,'City')\n",
    "\n"
   ]
  },
  {
   "cell_type": "code",
   "execution_count": 171,
   "metadata": {},
   "outputs": [
    {
     "name": "stdout",
     "output_type": "stream",
     "text": [
      "Dimensiones : 8405 filas, 11 columnas\n",
      "Total Valores NA : 0 \n",
      "                        Nombre Columna Tipo de Dato     #Distintos Valores NA\n",
      "                               CrimeId      int64         8401          0\n",
      "                 OriginalCrimeTypeName     object          291          0\n",
      "                           OffenseDate     object            9          0\n",
      "                              CallTime     object         1406          0\n",
      "                          CallDateTime     object         4726          0\n",
      "                           Disposition     object           19          0\n",
      "                               Address     object         4590          0\n",
      "                                  City     object            2          0\n",
      "                                 State     object            1          0\n",
      "                              AgencyId      int64            1          0\n",
      "                           AddressType     object            6          0\n"
     ]
    }
   ],
   "source": [
    "datos_NA(dataFinal)"
   ]
  },
  {
   "cell_type": "code",
   "execution_count": 174,
   "metadata": {},
   "outputs": [
    {
     "data": {
      "text/plain": [
       "HAN    3095\n",
       "CIT    1044\n",
       "ADV    1033\n",
       "GOA     902\n",
       "REP     724\n",
       "ND      385\n",
       "UTL     312\n",
       "NOM     243\n",
       "CAN     217\n",
       "PAS     166\n",
       "ABA      81\n",
       "NCR      76\n",
       "ARR      63\n",
       "ADM      44\n",
       "INC      17\n",
       "CRT       2\n",
       "SFD       1\n",
       "Name: Disposition, dtype: int64"
      ]
     },
     "execution_count": 174,
     "metadata": {},
     "output_type": "execute_result"
    }
   ],
   "source": [
    "revCategoricos(dataFinal, 'Disposition')\n",
    "\n",
    "dataFinal['Disposition']= imputacionCat(dataFinal, 'Disposition', 'Not recorded','HAN')\n",
    "dataFinal['Disposition']= imputacionCat(dataFinal, 'Disposition', '22','HAN')\n",
    "\n",
    "revCategoricos(dataFinal, 'Disposition')"
   ]
  },
  {
   "cell_type": "code",
   "execution_count": 178,
   "metadata": {},
   "outputs": [],
   "source": [
    "##Extraccion como .csv y json\n",
    "dataFinal.to_csv('dataLimpia.csv', index=False)\n",
    "\n",
    "dataFinal.to_json(\"./dataFinal.json\", orient='index')\n"
   ]
  },
  {
   "cell_type": "markdown",
   "metadata": {},
   "source": []
  }
 ],
 "metadata": {
  "kernelspec": {
   "display_name": "Python 3.10.6 64-bit",
   "language": "python",
   "name": "python3"
  },
  "language_info": {
   "codemirror_mode": {
    "name": "ipython",
    "version": 3
   },
   "file_extension": ".py",
   "mimetype": "text/x-python",
   "name": "python",
   "nbconvert_exporter": "python",
   "pygments_lexer": "ipython3",
   "version": "3.10.6"
  },
  "orig_nbformat": 4,
  "vscode": {
   "interpreter": {
    "hash": "a77b2f40ed1df9b9e0585d1a6edbb21462fc1256ebafb680e8b8391ecdeee36b"
   }
  }
 },
 "nbformat": 4,
 "nbformat_minor": 2
}
